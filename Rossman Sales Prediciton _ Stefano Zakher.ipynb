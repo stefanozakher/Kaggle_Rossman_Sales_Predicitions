{
 "cells": [
  {
   "cell_type": "markdown",
   "metadata": {},
   "source": [
     "!["shop"](cor-presse-download-logos-rossmann-drogeriemarkt.jpg "shop")"   
   ]
  },
  {
   "cell_type": "markdown",
   "metadata": {},
   "source": [
    "<h2><center> By Stefano Zakher</center></h2>"
   ]
  },
  {
   "cell_type": "markdown",
   "metadata": {},
   "source": [
    "<h2><center> EDA and Forecasting with\n",
    "    RandomForest Regressor </center></h2>\n",
    "\n",
    "\n",
    " **Objective:** \n",
    "\n",
    "- Data Wrangling and Exploration (treat outliers, handle missing values etc.).\n",
    "- Correlation analysis with Store dataset joined.\n",
    "- Training Model with RF \n",
    "- Visualize and evaluate model\n",
    "- Choose the best performing one and predict the next 6 weeks of sales"
   ]
  },
  {
   "cell_type": "markdown",
   "metadata": {},
   "source": [
    "The following dataset created by Rossman on its Store Sales and Information of its different drug stores:\n",
    "\n",
    "<table>\n",
    "<tr>\n",
    "    <th><center>Columns</center></th>\n",
    "    <th><center>Descriptions</center></th>\n",
    "</tr>\n",
    "<tr>\n",
    "    <td><center>Id</center></td>\n",
    "    <td><center> An Id that represents a (Store, Date) duple within the test set</center></td>\n",
    "</tr>\n",
    "<tr>\n",
    "    <td><center>Store</center></td>\n",
    "    <td><center>A unique Id for each store</center></td>\n",
    "</tr>\n",
    "<tr>\n",
    "    <td><center>Sales</center></td>\n",
    "    <td><center>The turnover on a given day (our target variable) </center></td>\n",
    "</tr>\n",
    "<tr>\n",
    "    <td><center>Customers</center></td>\n",
    "    <td><center>The number of customers on a given day</center></td>\n",
    "</tr>\n",
    "<tr>\n",
    "    <td><center>Open</center></td> \n",
    "    <td><center>open: 0 = the store is closed , 1 = the store is open</center></td>\n",
    "</tr>\n",
    "<tr>\n",
    "    <td><center>StateHoliday</center></td>\n",
    "    <td><center>Indicates a state holiday. a = public holiday, b = Easter holiday, c = Christmas, 0 = None</center></td>\n",
    "</tr>\n",
    "<tr>\n",
    "    <td><center>SchoolHoliday</center></td>\n",
    "    <td><center> Store on this Date was affected or not by the closure of public schools</center></td>\n",
    "</tr>\n",
    "<tr>\n",
    "    <td><center>StoreType</center></td>\n",
    "    <td><center>4 different stores:a,b,c,d </center></td>\n",
    "</tr>\n",
    "<tr>\n",
    "    <td><center>Assortment </center></td>\n",
    "    <td><center>Assortment level: a = basic, b = extra, c = extended</center></td>\n",
    "</tr>\n",
    "<tr>\n",
    "    <td><center>CompetitionDistance</center></td>\n",
    "    <td><center>Distance in meters to the nearest competitor store</center></td>\n",
    "</tr>\n",
    "<tr>\n",
    "    <td><center>CompetitionOpenSince[Month/Year]</center></td>\n",
    "    <td><center>gives the approximate year and month of the time the nearest competitor was opened</center></td>\n",
    "</tr>\n",
    "<tr>\n",
    "    <td><center>Promo</center></td>\n",
    "    <td><center>Promo or not on that day</center></td>\n",
    "</tr>\n",
    "<tr>\n",
    "    <td><center>Promo2</center></td>\n",
    "    <td><center>Promo2 is a continuing and consecutive promotion for some stores: 0 = store is not participating, 1 = store is participating</center></td>\n",
    "</tr>\n",
    "<tr>\n",
    "    <td><center>Promo2Since[Year/Week]</center></td>\n",
    "    <td><center>describes the year and calendar week when the store started participating in Promo2</center></td>\n",
    "</tr>\n",
    "<tr>\n",
    "    <td><center>PromoInterval</center></td>\n",
    "    <td><center>describes the consecutive intervals Promo2 is started, naming the months the promotion is started anew. E.g. \"Feb,May,Aug,Nov\" means each round starts in February, May, August, November of any given year for that store</center></td>\n",
    "</tr>\n",
    "</table>"
   ]
  },
  {
   "cell_type": "markdown",
   "metadata": {},
   "source": [
    "**Approach:**"
   ]
  },
  {
   "cell_type": "markdown",
   "metadata": {},
   "source": [
    "Having strong interest for Tree-Based models; this notebook is meant to show the performance of a robust ensemble methods ; Random Forest (parallel tree creation)  and evaluate the best performing one for this case.\n",
    "\n",
    "I first do the habitual data treatment and cleansing.\n",
    "\n",
    "In order to understand better the patterns of the data, i will make use of libraries like matplotlib and seaborn to deep dive cases in the dataset and give better visibility on what is happening with the different types of Rossman drug stores.\n",
    "\n",
    "This Exploratory analysis will help me move forward with the correlation analysis and feature engineering part of the project.\n",
    "\n",
    "Then i train my model using scikit-learn with Random Forest Regressor and evaluate it on a validation set in order to analyse and understand which model works best for this scenario. \n",
    "\n"
   ]
  },
  {
   "cell_type": "markdown",
   "metadata": {},
   "source": [
    "------------------------------------------------------------------------------------------"
   ]
  },
  {
   "cell_type": "markdown",
   "metadata": {},
   "source": [
    "**Libraries to import:**"
   ]
  },
  {
   "cell_type": "code",
   "execution_count": 1374,
   "metadata": {},
   "outputs": [],
   "source": [
    "import warnings\n",
    "warnings.filterwarnings(\"ignore\")\n",
    "#Data Manipulation and Treatment\n",
    "import numpy as np\n",
    "import pandas as pd\n",
    "from datetime import datetime\n",
    "#Plotting and Visualizations\n",
    "import matplotlib.pyplot as plt\n",
    "%matplotlib inline \n",
    "import seaborn as sns\n",
    "from scipy import stats\n",
    "import itertools\n",
    "#Scikit-Learn for Modeling\n",
    "import xgboost as xgb\n",
    "from sklearn import model_selection\n",
    "from xgboost.sklearn import XGBRegressor \n",
    "from sklearn.ensemble import RandomForestRegressor\n",
    "from sklearn import metrics"
   ]
  },
  {
   "cell_type": "code",
   "execution_count": 1375,
   "metadata": {},
   "outputs": [],
   "source": [
    "def str_to_date(date):\n",
    "    return datetime.strptime(date, '%Y-%m-%d').date()"
   ]
  },
  {
   "cell_type": "markdown",
   "metadata": {},
   "source": [
    "**Load the datasets:**"
   ]
  },
  {
   "cell_type": "code",
   "execution_count": 1376,
   "metadata": {},
   "outputs": [],
   "source": [
    "#The training Set\n",
    "df_train = pd.read_csv(\"/Users/stefanozakher/Desktop/Rossman Kaggle Competition/input/train.csv\",sep=',', parse_dates=['Date']\n",
    "                       , date_parser=str_to_date,\n",
    "                       low_memory = False)\n",
    "\n",
    "\n",
    "#Additional Information on those stores \n",
    "df_store = pd.read_csv(\"/Users/stefanozakher/Desktop/Rossman Kaggle Competition/input/store.csv\"\n",
    "                       , low_memory = False)"
   ]
  },
  {
   "cell_type": "markdown",
   "metadata": {},
   "source": [
    "**A quick glimpse at the data on hand:**"
   ]
  },
  {
   "cell_type": "code",
   "execution_count": 1377,
   "metadata": {},
   "outputs": [
    {
     "data": {
      "text/html": [
       "<div>\n",
       "<style scoped>\n",
       "    .dataframe tbody tr th:only-of-type {\n",
       "        vertical-align: middle;\n",
       "    }\n",
       "\n",
       "    .dataframe tbody tr th {\n",
       "        vertical-align: top;\n",
       "    }\n",
       "\n",
       "    .dataframe thead th {\n",
       "        text-align: right;\n",
       "    }\n",
       "</style>\n",
       "<table border=\"1\" class=\"dataframe\">\n",
       "  <thead>\n",
       "    <tr style=\"text-align: right;\">\n",
       "      <th></th>\n",
       "      <th>Store</th>\n",
       "      <th>DayOfWeek</th>\n",
       "      <th>Date</th>\n",
       "      <th>Sales</th>\n",
       "      <th>Customers</th>\n",
       "      <th>Open</th>\n",
       "      <th>Promo</th>\n",
       "      <th>StateHoliday</th>\n",
       "      <th>SchoolHoliday</th>\n",
       "    </tr>\n",
       "  </thead>\n",
       "  <tbody>\n",
       "    <tr>\n",
       "      <th>0</th>\n",
       "      <td>1</td>\n",
       "      <td>5</td>\n",
       "      <td>2015-07-31</td>\n",
       "      <td>5263</td>\n",
       "      <td>555</td>\n",
       "      <td>1</td>\n",
       "      <td>1</td>\n",
       "      <td>0</td>\n",
       "      <td>1</td>\n",
       "    </tr>\n",
       "    <tr>\n",
       "      <th>1</th>\n",
       "      <td>2</td>\n",
       "      <td>5</td>\n",
       "      <td>2015-07-31</td>\n",
       "      <td>6064</td>\n",
       "      <td>625</td>\n",
       "      <td>1</td>\n",
       "      <td>1</td>\n",
       "      <td>0</td>\n",
       "      <td>1</td>\n",
       "    </tr>\n",
       "    <tr>\n",
       "      <th>2</th>\n",
       "      <td>3</td>\n",
       "      <td>5</td>\n",
       "      <td>2015-07-31</td>\n",
       "      <td>8314</td>\n",
       "      <td>821</td>\n",
       "      <td>1</td>\n",
       "      <td>1</td>\n",
       "      <td>0</td>\n",
       "      <td>1</td>\n",
       "    </tr>\n",
       "    <tr>\n",
       "      <th>3</th>\n",
       "      <td>4</td>\n",
       "      <td>5</td>\n",
       "      <td>2015-07-31</td>\n",
       "      <td>13995</td>\n",
       "      <td>1498</td>\n",
       "      <td>1</td>\n",
       "      <td>1</td>\n",
       "      <td>0</td>\n",
       "      <td>1</td>\n",
       "    </tr>\n",
       "    <tr>\n",
       "      <th>4</th>\n",
       "      <td>5</td>\n",
       "      <td>5</td>\n",
       "      <td>2015-07-31</td>\n",
       "      <td>4822</td>\n",
       "      <td>559</td>\n",
       "      <td>1</td>\n",
       "      <td>1</td>\n",
       "      <td>0</td>\n",
       "      <td>1</td>\n",
       "    </tr>\n",
       "  </tbody>\n",
       "</table>\n",
       "</div>"
      ],
      "text/plain": [
       "   Store  DayOfWeek       Date  Sales  Customers  Open  Promo StateHoliday  \\\n",
       "0      1          5 2015-07-31   5263        555     1      1            0   \n",
       "1      2          5 2015-07-31   6064        625     1      1            0   \n",
       "2      3          5 2015-07-31   8314        821     1      1            0   \n",
       "3      4          5 2015-07-31  13995       1498     1      1            0   \n",
       "4      5          5 2015-07-31   4822        559     1      1            0   \n",
       "\n",
       "   SchoolHoliday  \n",
       "0              1  \n",
       "1              1  \n",
       "2              1  \n",
       "3              1  \n",
       "4              1  "
      ]
     },
     "execution_count": 1377,
     "metadata": {},
     "output_type": "execute_result"
    }
   ],
   "source": [
    "df_train.head() "
   ]
  },
  {
   "cell_type": "code",
   "execution_count": 1378,
   "metadata": {},
   "outputs": [
    {
     "data": {
      "text/html": [
       "<div>\n",
       "<style scoped>\n",
       "    .dataframe tbody tr th:only-of-type {\n",
       "        vertical-align: middle;\n",
       "    }\n",
       "\n",
       "    .dataframe tbody tr th {\n",
       "        vertical-align: top;\n",
       "    }\n",
       "\n",
       "    .dataframe thead th {\n",
       "        text-align: right;\n",
       "    }\n",
       "</style>\n",
       "<table border=\"1\" class=\"dataframe\">\n",
       "  <thead>\n",
       "    <tr style=\"text-align: right;\">\n",
       "      <th></th>\n",
       "      <th>Store</th>\n",
       "      <th>DayOfWeek</th>\n",
       "      <th>Date</th>\n",
       "      <th>Sales</th>\n",
       "      <th>Customers</th>\n",
       "      <th>Open</th>\n",
       "      <th>Promo</th>\n",
       "      <th>StateHoliday</th>\n",
       "      <th>SchoolHoliday</th>\n",
       "    </tr>\n",
       "  </thead>\n",
       "  <tbody>\n",
       "    <tr>\n",
       "      <th>1017204</th>\n",
       "      <td>1111</td>\n",
       "      <td>2</td>\n",
       "      <td>2013-01-01</td>\n",
       "      <td>0</td>\n",
       "      <td>0</td>\n",
       "      <td>0</td>\n",
       "      <td>0</td>\n",
       "      <td>a</td>\n",
       "      <td>1</td>\n",
       "    </tr>\n",
       "    <tr>\n",
       "      <th>1017205</th>\n",
       "      <td>1112</td>\n",
       "      <td>2</td>\n",
       "      <td>2013-01-01</td>\n",
       "      <td>0</td>\n",
       "      <td>0</td>\n",
       "      <td>0</td>\n",
       "      <td>0</td>\n",
       "      <td>a</td>\n",
       "      <td>1</td>\n",
       "    </tr>\n",
       "    <tr>\n",
       "      <th>1017206</th>\n",
       "      <td>1113</td>\n",
       "      <td>2</td>\n",
       "      <td>2013-01-01</td>\n",
       "      <td>0</td>\n",
       "      <td>0</td>\n",
       "      <td>0</td>\n",
       "      <td>0</td>\n",
       "      <td>a</td>\n",
       "      <td>1</td>\n",
       "    </tr>\n",
       "    <tr>\n",
       "      <th>1017207</th>\n",
       "      <td>1114</td>\n",
       "      <td>2</td>\n",
       "      <td>2013-01-01</td>\n",
       "      <td>0</td>\n",
       "      <td>0</td>\n",
       "      <td>0</td>\n",
       "      <td>0</td>\n",
       "      <td>a</td>\n",
       "      <td>1</td>\n",
       "    </tr>\n",
       "    <tr>\n",
       "      <th>1017208</th>\n",
       "      <td>1115</td>\n",
       "      <td>2</td>\n",
       "      <td>2013-01-01</td>\n",
       "      <td>0</td>\n",
       "      <td>0</td>\n",
       "      <td>0</td>\n",
       "      <td>0</td>\n",
       "      <td>a</td>\n",
       "      <td>1</td>\n",
       "    </tr>\n",
       "  </tbody>\n",
       "</table>\n",
       "</div>"
      ],
      "text/plain": [
       "         Store  DayOfWeek       Date  Sales  Customers  Open  Promo  \\\n",
       "1017204   1111          2 2013-01-01      0          0     0      0   \n",
       "1017205   1112          2 2013-01-01      0          0     0      0   \n",
       "1017206   1113          2 2013-01-01      0          0     0      0   \n",
       "1017207   1114          2 2013-01-01      0          0     0      0   \n",
       "1017208   1115          2 2013-01-01      0          0     0      0   \n",
       "\n",
       "        StateHoliday  SchoolHoliday  \n",
       "1017204            a              1  \n",
       "1017205            a              1  \n",
       "1017206            a              1  \n",
       "1017207            a              1  \n",
       "1017208            a              1  "
      ]
     },
     "execution_count": 1378,
     "metadata": {},
     "output_type": "execute_result"
    }
   ],
   "source": [
    "df_train.tail()"
   ]
  },
  {
   "cell_type": "code",
   "execution_count": 1379,
   "metadata": {},
   "outputs": [
    {
     "name": "stdout",
     "output_type": "stream",
     "text": [
      "The Train dataset has 1017209 Rows and 9 Variables\n"
     ]
    },
    {
     "data": {
      "text/plain": [
       "(Store                     int64\n",
       " DayOfWeek                 int64\n",
       " Date             datetime64[ns]\n",
       " Sales                     int64\n",
       " Customers                 int64\n",
       " Open                      int64\n",
       " Promo                     int64\n",
       " StateHoliday             object\n",
       " SchoolHoliday             int64\n",
       " dtype: object, None)"
      ]
     },
     "execution_count": 1379,
     "metadata": {},
     "output_type": "execute_result"
    }
   ],
   "source": [
    "df_train.dtypes,print (\"The Train dataset has {} Rows and {} Variables\".format(str(df_train.shape[0]),str(df_train.shape[1])))"
   ]
  },
  {
   "cell_type": "code",
   "execution_count": 1380,
   "metadata": {},
   "outputs": [
    {
     "data": {
      "text/html": [
       "<div>\n",
       "<style scoped>\n",
       "    .dataframe tbody tr th:only-of-type {\n",
       "        vertical-align: middle;\n",
       "    }\n",
       "\n",
       "    .dataframe tbody tr th {\n",
       "        vertical-align: top;\n",
       "    }\n",
       "\n",
       "    .dataframe thead th {\n",
       "        text-align: right;\n",
       "    }\n",
       "</style>\n",
       "<table border=\"1\" class=\"dataframe\">\n",
       "  <thead>\n",
       "    <tr style=\"text-align: right;\">\n",
       "      <th></th>\n",
       "      <th>Store</th>\n",
       "      <th>StoreType</th>\n",
       "      <th>Assortment</th>\n",
       "      <th>CompetitionDistance</th>\n",
       "      <th>CompetitionOpenSinceMonth</th>\n",
       "      <th>CompetitionOpenSinceYear</th>\n",
       "      <th>Promo2</th>\n",
       "      <th>Promo2SinceWeek</th>\n",
       "      <th>Promo2SinceYear</th>\n",
       "      <th>PromoInterval</th>\n",
       "    </tr>\n",
       "  </thead>\n",
       "  <tbody>\n",
       "    <tr>\n",
       "      <th>0</th>\n",
       "      <td>1</td>\n",
       "      <td>c</td>\n",
       "      <td>a</td>\n",
       "      <td>1270.0</td>\n",
       "      <td>9.0</td>\n",
       "      <td>2008.0</td>\n",
       "      <td>0</td>\n",
       "      <td>NaN</td>\n",
       "      <td>NaN</td>\n",
       "      <td>NaN</td>\n",
       "    </tr>\n",
       "    <tr>\n",
       "      <th>1</th>\n",
       "      <td>2</td>\n",
       "      <td>a</td>\n",
       "      <td>a</td>\n",
       "      <td>570.0</td>\n",
       "      <td>11.0</td>\n",
       "      <td>2007.0</td>\n",
       "      <td>1</td>\n",
       "      <td>13.0</td>\n",
       "      <td>2010.0</td>\n",
       "      <td>Jan,Apr,Jul,Oct</td>\n",
       "    </tr>\n",
       "    <tr>\n",
       "      <th>2</th>\n",
       "      <td>3</td>\n",
       "      <td>a</td>\n",
       "      <td>a</td>\n",
       "      <td>14130.0</td>\n",
       "      <td>12.0</td>\n",
       "      <td>2006.0</td>\n",
       "      <td>1</td>\n",
       "      <td>14.0</td>\n",
       "      <td>2011.0</td>\n",
       "      <td>Jan,Apr,Jul,Oct</td>\n",
       "    </tr>\n",
       "    <tr>\n",
       "      <th>3</th>\n",
       "      <td>4</td>\n",
       "      <td>c</td>\n",
       "      <td>c</td>\n",
       "      <td>620.0</td>\n",
       "      <td>9.0</td>\n",
       "      <td>2009.0</td>\n",
       "      <td>0</td>\n",
       "      <td>NaN</td>\n",
       "      <td>NaN</td>\n",
       "      <td>NaN</td>\n",
       "    </tr>\n",
       "    <tr>\n",
       "      <th>4</th>\n",
       "      <td>5</td>\n",
       "      <td>a</td>\n",
       "      <td>a</td>\n",
       "      <td>29910.0</td>\n",
       "      <td>4.0</td>\n",
       "      <td>2015.0</td>\n",
       "      <td>0</td>\n",
       "      <td>NaN</td>\n",
       "      <td>NaN</td>\n",
       "      <td>NaN</td>\n",
       "    </tr>\n",
       "  </tbody>\n",
       "</table>\n",
       "</div>"
      ],
      "text/plain": [
       "   Store StoreType Assortment  CompetitionDistance  CompetitionOpenSinceMonth  \\\n",
       "0      1         c          a               1270.0                        9.0   \n",
       "1      2         a          a                570.0                       11.0   \n",
       "2      3         a          a              14130.0                       12.0   \n",
       "3      4         c          c                620.0                        9.0   \n",
       "4      5         a          a              29910.0                        4.0   \n",
       "\n",
       "   CompetitionOpenSinceYear  Promo2  Promo2SinceWeek  Promo2SinceYear  \\\n",
       "0                    2008.0       0              NaN              NaN   \n",
       "1                    2007.0       1             13.0           2010.0   \n",
       "2                    2006.0       1             14.0           2011.0   \n",
       "3                    2009.0       0              NaN              NaN   \n",
       "4                    2015.0       0              NaN              NaN   \n",
       "\n",
       "     PromoInterval  \n",
       "0              NaN  \n",
       "1  Jan,Apr,Jul,Oct  \n",
       "2  Jan,Apr,Jul,Oct  \n",
       "3              NaN  \n",
       "4              NaN  "
      ]
     },
     "execution_count": 1380,
     "metadata": {},
     "output_type": "execute_result"
    }
   ],
   "source": [
    "df_store.head()"
   ]
  },
  {
   "cell_type": "code",
   "execution_count": 1381,
   "metadata": {},
   "outputs": [
    {
     "data": {
      "text/html": [
       "<div>\n",
       "<style scoped>\n",
       "    .dataframe tbody tr th:only-of-type {\n",
       "        vertical-align: middle;\n",
       "    }\n",
       "\n",
       "    .dataframe tbody tr th {\n",
       "        vertical-align: top;\n",
       "    }\n",
       "\n",
       "    .dataframe thead th {\n",
       "        text-align: right;\n",
       "    }\n",
       "</style>\n",
       "<table border=\"1\" class=\"dataframe\">\n",
       "  <thead>\n",
       "    <tr style=\"text-align: right;\">\n",
       "      <th></th>\n",
       "      <th>Store</th>\n",
       "      <th>StoreType</th>\n",
       "      <th>Assortment</th>\n",
       "      <th>CompetitionDistance</th>\n",
       "      <th>CompetitionOpenSinceMonth</th>\n",
       "      <th>CompetitionOpenSinceYear</th>\n",
       "      <th>Promo2</th>\n",
       "      <th>Promo2SinceWeek</th>\n",
       "      <th>Promo2SinceYear</th>\n",
       "      <th>PromoInterval</th>\n",
       "    </tr>\n",
       "  </thead>\n",
       "  <tbody>\n",
       "    <tr>\n",
       "      <th>1110</th>\n",
       "      <td>1111</td>\n",
       "      <td>a</td>\n",
       "      <td>a</td>\n",
       "      <td>1900.0</td>\n",
       "      <td>6.0</td>\n",
       "      <td>2014.0</td>\n",
       "      <td>1</td>\n",
       "      <td>31.0</td>\n",
       "      <td>2013.0</td>\n",
       "      <td>Jan,Apr,Jul,Oct</td>\n",
       "    </tr>\n",
       "    <tr>\n",
       "      <th>1111</th>\n",
       "      <td>1112</td>\n",
       "      <td>c</td>\n",
       "      <td>c</td>\n",
       "      <td>1880.0</td>\n",
       "      <td>4.0</td>\n",
       "      <td>2006.0</td>\n",
       "      <td>0</td>\n",
       "      <td>NaN</td>\n",
       "      <td>NaN</td>\n",
       "      <td>NaN</td>\n",
       "    </tr>\n",
       "    <tr>\n",
       "      <th>1112</th>\n",
       "      <td>1113</td>\n",
       "      <td>a</td>\n",
       "      <td>c</td>\n",
       "      <td>9260.0</td>\n",
       "      <td>NaN</td>\n",
       "      <td>NaN</td>\n",
       "      <td>0</td>\n",
       "      <td>NaN</td>\n",
       "      <td>NaN</td>\n",
       "      <td>NaN</td>\n",
       "    </tr>\n",
       "    <tr>\n",
       "      <th>1113</th>\n",
       "      <td>1114</td>\n",
       "      <td>a</td>\n",
       "      <td>c</td>\n",
       "      <td>870.0</td>\n",
       "      <td>NaN</td>\n",
       "      <td>NaN</td>\n",
       "      <td>0</td>\n",
       "      <td>NaN</td>\n",
       "      <td>NaN</td>\n",
       "      <td>NaN</td>\n",
       "    </tr>\n",
       "    <tr>\n",
       "      <th>1114</th>\n",
       "      <td>1115</td>\n",
       "      <td>d</td>\n",
       "      <td>c</td>\n",
       "      <td>5350.0</td>\n",
       "      <td>NaN</td>\n",
       "      <td>NaN</td>\n",
       "      <td>1</td>\n",
       "      <td>22.0</td>\n",
       "      <td>2012.0</td>\n",
       "      <td>Mar,Jun,Sept,Dec</td>\n",
       "    </tr>\n",
       "  </tbody>\n",
       "</table>\n",
       "</div>"
      ],
      "text/plain": [
       "      Store StoreType Assortment  CompetitionDistance  \\\n",
       "1110   1111         a          a               1900.0   \n",
       "1111   1112         c          c               1880.0   \n",
       "1112   1113         a          c               9260.0   \n",
       "1113   1114         a          c                870.0   \n",
       "1114   1115         d          c               5350.0   \n",
       "\n",
       "      CompetitionOpenSinceMonth  CompetitionOpenSinceYear  Promo2  \\\n",
       "1110                        6.0                    2014.0       1   \n",
       "1111                        4.0                    2006.0       0   \n",
       "1112                        NaN                       NaN       0   \n",
       "1113                        NaN                       NaN       0   \n",
       "1114                        NaN                       NaN       1   \n",
       "\n",
       "      Promo2SinceWeek  Promo2SinceYear     PromoInterval  \n",
       "1110             31.0           2013.0   Jan,Apr,Jul,Oct  \n",
       "1111              NaN              NaN               NaN  \n",
       "1112              NaN              NaN               NaN  \n",
       "1113              NaN              NaN               NaN  \n",
       "1114             22.0           2012.0  Mar,Jun,Sept,Dec  "
      ]
     },
     "execution_count": 1381,
     "metadata": {},
     "output_type": "execute_result"
    }
   ],
   "source": [
    "df_store.tail()"
   ]
  },
  {
   "cell_type": "code",
   "execution_count": 1382,
   "metadata": {},
   "outputs": [
    {
     "name": "stdout",
     "output_type": "stream",
     "text": [
      "The Store dataset has 1115 Rows (which means unique Shops) and 10 Variables\n"
     ]
    },
    {
     "data": {
      "text/plain": [
       "(Store                          int64\n",
       " StoreType                     object\n",
       " Assortment                    object\n",
       " CompetitionDistance          float64\n",
       " CompetitionOpenSinceMonth    float64\n",
       " CompetitionOpenSinceYear     float64\n",
       " Promo2                         int64\n",
       " Promo2SinceWeek              float64\n",
       " Promo2SinceYear              float64\n",
       " PromoInterval                 object\n",
       " dtype: object, None)"
      ]
     },
     "execution_count": 1382,
     "metadata": {},
     "output_type": "execute_result"
    }
   ],
   "source": [
    "df_store.dtypes ,print (\"The Store dataset has {} Rows (which means unique Shops) and {} Variables\".format(str(df_store.shape[0]),str(df_store.shape[1]))) \n",
    "\n"
   ]
  },
  {
   "cell_type": "markdown",
   "metadata": {},
   "source": [
    "<h2>Data Wrangling and Exploration:</h2>"
   ]
  },
  {
   "cell_type": "markdown",
   "metadata": {},
   "source": [
    "How many missing fields each variable has:"
   ]
  },
  {
   "cell_type": "code",
   "execution_count": 1383,
   "metadata": {},
   "outputs": [
    {
     "data": {
      "text/plain": [
       "Store            100.0\n",
       "DayOfWeek        100.0\n",
       "Date             100.0\n",
       "Sales            100.0\n",
       "Customers        100.0\n",
       "Open             100.0\n",
       "Promo            100.0\n",
       "StateHoliday     100.0\n",
       "SchoolHoliday    100.0\n",
       "dtype: float64"
      ]
     },
     "execution_count": 1383,
     "metadata": {},
     "output_type": "execute_result"
    }
   ],
   "source": [
    "df_train.count(0)/df_train.shape[0] * 100"
   ]
  },
  {
   "cell_type": "markdown",
   "metadata": {},
   "source": [
    "- We can see that the the columns have got a good fill rate. We don't need to do any change for the train set for now at least."
   ]
  },
  {
   "cell_type": "markdown",
   "metadata": {},
   "source": [
    "<h3>A closer look at the Train set:</h3>"
   ]
  },
  {
   "cell_type": "markdown",
   "metadata": {},
   "source": [
    "<h4>Deep Dive on Stores Closed (which means 0 customers and 0 sales) on Certain days:</h4>"
   ]
  },
  {
   "cell_type": "code",
   "execution_count": 1384,
   "metadata": {},
   "outputs": [
    {
     "name": "stdout",
     "output_type": "stream",
     "text": [
      "\n",
      "-Over those two years, 172817 is the number of times that different stores closed on given days.\n",
      "\n",
      "-From those closed events, 3067 times occured because there was a school holiday. \n",
      "\n",
      "-And 30140 times it occured because of either a bank holiday or easter or christmas.\n",
      "\n",
      "-But interestingly enough, 139610 times those shops closed on days for no apparent reason when no holiday was announced. In fact, those closings were done with no pattern whatsoever and in this case from 2013 to 2015 at almost any month and any day.\n",
      "\n"
     ]
    }
   ],
   "source": [
    "print ()\n",
    "print (\"-Over those two years, {} is the number of times that different stores closed on given days.\".format(df_train[(df_train.Open == 0)].count()[0]))\n",
    "print ()\n",
    "print (\"-From those closed events, {} times occured because there was a school holiday. \" .format(df_train[(df_train.Open == 0) & (df_train.SchoolHoliday == 1)&(df_train.StateHoliday == '0') ].count()[0]))\n",
    "print ()\n",
    "print (\"-And {} times it occured because of either a bank holiday or easter or christmas.\".format(df_train[(df_train.Open == 0) &\n",
    "         ((df_train.StateHoliday == 'a') |\n",
    "          (df_train.StateHoliday == 'b') | \n",
    "          (df_train.StateHoliday == 'c'))].count()[0]))\n",
    "print ()\n",
    "print (\"-But interestingly enough, {} times those shops closed on days for no apparent reason when no holiday was announced. In fact, those closings were done with no pattern whatsoever and in this case from 2013 to 2015 at almost any month and any day.\".format(df_train[(df_train.Open == 0) &\n",
    "         (df_train.StateHoliday == \"0\")\n",
    "         &(df_train.SchoolHoliday == 0)].count()[0]))\n",
    "print ()"
   ]
  },
  {
   "cell_type": "markdown",
   "metadata": {},
   "source": [
    "<h4>What should be done?</h4>"
   ]
  },
  {
   "cell_type": "markdown",
   "metadata": {},
   "source": [
    "- After reading the descrition of the this task, Rossman clearly stated that they were undergoing refurbishments sometimes and had to close. Most probably those were the times this event was happening.\n",
    "\n",
    "- And since we don't want to bias our decision tree models to consider those exceptions, the best solution here is to get rid of closed stores and prevent the models to train on them and get false guidance.\n",
    "\n",
    "- In this case we will analyse only open stores since a close  store yield a profit of 0."
   ]
  },
  {
   "cell_type": "code",
   "execution_count": 1385,
   "metadata": {},
   "outputs": [],
   "source": [
    "df_train=df_train.drop(df_train[(df_train.Open == 0) & (df_train.Sales == 0)].index)"
   ]
  },
  {
   "cell_type": "code",
   "execution_count": 1386,
   "metadata": {},
   "outputs": [],
   "source": [
    "df_train = df_train.reset_index(drop=True) #making sure the indexes are back to [0,1,2,3 etc.] "
   ]
  },
  {
   "cell_type": "code",
   "execution_count": 1387,
   "metadata": {},
   "outputs": [
    {
     "name": "stdout",
     "output_type": "stream",
     "text": [
      "Our new training set has now 844392 rows \n"
     ]
    }
   ],
   "source": [
    "print (\"Our new training set has now {} rows \".format(df_train.shape[0]))"
   ]
  },
  {
   "cell_type": "markdown",
   "metadata": {},
   "source": [
    "**What about the distribution of Sales and Customers in the train set? Any outliers?**"
   ]
  },
  {
   "cell_type": "markdown",
   "metadata": {},
   "source": [
    "**1) Sales:**"
   ]
  },
  {
   "cell_type": "code",
   "execution_count": 1388,
   "metadata": {},
   "outputs": [
    {
     "data": {
      "text/plain": [
       "count    844392.000000\n",
       "mean       6955.514291\n",
       "std        3104.214680\n",
       "min           0.000000\n",
       "25%        4859.000000\n",
       "50%        6369.000000\n",
       "75%        8360.000000\n",
       "max       41551.000000\n",
       "Name: Sales, dtype: float64"
      ]
     },
     "execution_count": 1388,
     "metadata": {},
     "output_type": "execute_result"
    }
   ],
   "source": [
    "df_train.Sales.describe() \n",
    "#we see here a minimum of 0 which means some stores even opened got 0 sales on some days."
   ]
  },
  {
   "cell_type": "code",
   "execution_count": 1389,
   "metadata": {},
   "outputs": [],
   "source": [
    "df_train=df_train.drop(df_train[(df_train.Open == 1) & (df_train.Sales == 0)].index)\n",
    "df_train = df_train.reset_index(drop=True) "
   ]
  },
  {
   "cell_type": "code",
   "execution_count": 1391,
   "metadata": {},
   "outputs": [
    {
     "data": {
      "text/plain": [
       "{'Mean': 6955.959133664481, 'Median': 6369.0}"
      ]
     },
     "execution_count": 1391,
     "metadata": {},
     "output_type": "execute_result"
    },
    {
     "data": {
      "image/png": "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\n",
      "text/plain": [
       "<matplotlib.figure.Figure at 0x1be5f0e4a8>"
      ]
     },
     "metadata": {},
     "output_type": "display_data"
    }
   ],
   "source": [
    "\n",
    "fig, axes = plt.subplots(1, 2, figsize=(17,3.5))\n",
    "axes[0].boxplot(df_train.Sales, showmeans=True,vert=False)\n",
    "axes[0].set_xlim(0,max(df_train[\"Sales\"]+1000))\n",
    "axes[0].set_title('Boxplot For Sales Values')\n",
    "axes[1].hist(df_train.Sales, cumulative=False, bins=20)\n",
    "axes[1].set_title(\"Sales histogram\")\n",
    "axes[1].set_xlim((min(df_train.Sales), max(df_train.Sales)))\n",
    "\n",
    "{\"Mean\":np.mean(df_train.Sales),\"Median\":np.median(df_train.Sales)}\n",
    "\n",
    "\n"
   ]
  },
  {
   "cell_type": "code",
   "execution_count": 1392,
   "metadata": {},
   "outputs": [
    {
     "name": "stdout",
     "output_type": "stream",
     "text": [
      "3.21% of the time Rossman are actually having big sales day (considered outliers).\n",
      "0.00% of the time Rossman are actually having no sales at all.\n"
     ]
    }
   ],
   "source": [
    "print (\"{0:.2f}% of the time Rossman are actually having big sales day (considered outliers).\".format(df_train[df_train.Sales>14000].count()[0]/df_train.shape[0]*100))\n",
    "print (\"{0:.2f}% of the time Rossman are actually having no sales at all.\".format(df_train[df_train.Sales==0].count()[0]/df_train.shape[0]*100))"
   ]
  },
  {
   "cell_type": "markdown",
   "metadata": {},
   "source": [
    "**Findings:**"
   ]
  },
  {
   "cell_type": "markdown",
   "metadata": {},
   "source": [
    "- Some exceptions (the outliers) in the boxplot had to be checked to see if it's wrong inputted data but it turns out this big amount of sales on certain days is explained by either promotional purposes,the type of the store being big and popular or just not having near enough competition and being the monopoly in its region. (Charts will come in the analysis section of the train and store dataset when merged).\n",
    "\n",
    "- Concerning the 0 of the time having 0 sales.it represented before removing them a tiny amount of the train set(0.01%), those values can affect further calculation of metrics and bias and are not to be taken into account. Those cases could happen for some shops, probably due to external events affecting it.( an incident, a manifestation etc.)\n",
    "\n",
    "- An important metric to always check when looking at a distribution is how the mean compares to the median and how close are they from each other. As we see here a mean of 6955 versus 6369 in median is a very good sign that there are no extravagant values affecting the general distribution of Sales."
   ]
  },
  {
   "cell_type": "code",
   "execution_count": 1393,
   "metadata": {},
   "outputs": [
    {
     "data": {
      "text/plain": [
       "count    844338.000000\n",
       "mean        762.777166\n",
       "std         401.194153\n",
       "min           8.000000\n",
       "25%         519.000000\n",
       "50%         676.000000\n",
       "75%         893.000000\n",
       "max        7388.000000\n",
       "Name: Customers, dtype: float64"
      ]
     },
     "execution_count": 1393,
     "metadata": {},
     "output_type": "execute_result"
    }
   ],
   "source": [
    "df_train.Customers.describe()    "
   ]
  },
  {
   "cell_type": "code",
   "execution_count": 1394,
   "metadata": {},
   "outputs": [
    {
     "data": {
      "text/plain": [
       "{'Mean': 762.777166253325, 'Median': 676.0}"
      ]
     },
     "execution_count": 1394,
     "metadata": {},
     "output_type": "execute_result"
    },
    {
     "data": {
      "image/png": "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\n",
      "text/plain": [
       "<matplotlib.figure.Figure at 0x1be5f27fd0>"
      ]
     },
     "metadata": {},
     "output_type": "display_data"
    }
   ],
   "source": [
    "\n",
    "fig, axes = plt.subplots(1, 2, figsize=(17,3.5))\n",
    "axes[0].boxplot(df_train.Customers, showmeans=True,vert=False)\n",
    "axes[0].set_xlim(0,max(df_train[\"Customers\"]+100))\n",
    "axes[0].set_title('Boxplot For Customer Values')\n",
    "axes[1].hist(df_train.Customers, cumulative=False, bins=20)\n",
    "axes[1].set_title(\"Customers histogram\")\n",
    "axes[1].set_xlim((min(df_train.Customers), max(df_train.Customers)))\n",
    "\n",
    "{\"Mean\":np.mean(df_train.Customers),\"Median\":np.median(df_train.Customers)}"
   ]
  },
  {
   "cell_type": "code",
   "execution_count": 1395,
   "metadata": {},
   "outputs": [
    {
     "name": "stdout",
     "output_type": "stream",
     "text": [
      "4.37% of the time Rossman are actually having customers more than usual (considered outliers).\n",
      "0.00% of the time Rossman are actually having no customers at all.\n"
     ]
    }
   ],
   "source": [
    "print (\"{0:.2f}% of the time Rossman are actually having customers more than usual (considered outliers).\".format(df_train[df_train.Customers>1500].count()[0]/df_train.shape[0]*100))\n",
    "print (\"{0:.2f}% of the time Rossman are actually having no customers at all.\".format(df_train[df_train.Customers==0].count()[0]/df_train.shape[0]*100))"
   ]
  },
  {
   "cell_type": "code",
   "execution_count": 1396,
   "metadata": {},
   "outputs": [
    {
     "data": {
      "text/html": [
       "<div>\n",
       "<style scoped>\n",
       "    .dataframe tbody tr th:only-of-type {\n",
       "        vertical-align: middle;\n",
       "    }\n",
       "\n",
       "    .dataframe tbody tr th {\n",
       "        vertical-align: top;\n",
       "    }\n",
       "\n",
       "    .dataframe thead th {\n",
       "        text-align: right;\n",
       "    }\n",
       "</style>\n",
       "<table border=\"1\" class=\"dataframe\">\n",
       "  <thead>\n",
       "    <tr style=\"text-align: right;\">\n",
       "      <th></th>\n",
       "      <th>Store</th>\n",
       "      <th>DayOfWeek</th>\n",
       "      <th>Date</th>\n",
       "      <th>Sales</th>\n",
       "      <th>Customers</th>\n",
       "      <th>Open</th>\n",
       "      <th>Promo</th>\n",
       "      <th>StateHoliday</th>\n",
       "      <th>SchoolHoliday</th>\n",
       "    </tr>\n",
       "  </thead>\n",
       "  <tbody>\n",
       "    <tr>\n",
       "      <th>825160</th>\n",
       "      <td>817</td>\n",
       "      <td>2</td>\n",
       "      <td>2013-01-22</td>\n",
       "      <td>27190</td>\n",
       "      <td>7388</td>\n",
       "      <td>1</td>\n",
       "      <td>1</td>\n",
       "      <td>0</td>\n",
       "      <td>0</td>\n",
       "    </tr>\n",
       "  </tbody>\n",
       "</table>\n",
       "</div>"
      ],
      "text/plain": [
       "        Store  DayOfWeek       Date  Sales  Customers  Open  Promo  \\\n",
       "825160    817          2 2013-01-22  27190       7388     1      1   \n",
       "\n",
       "       StateHoliday  SchoolHoliday  \n",
       "825160            0              0  "
      ]
     },
     "execution_count": 1396,
     "metadata": {},
     "output_type": "execute_result"
    }
   ],
   "source": [
    "df_train[df_train.Customers>7000]"
   ]
  },
  {
   "cell_type": "code",
   "execution_count": 1397,
   "metadata": {},
   "outputs": [
    {
     "data": {
      "text/plain": [
       "0.8235517202000214"
      ]
     },
     "execution_count": 1397,
     "metadata": {},
     "output_type": "execute_result"
    }
   ],
   "source": [
    "stats.pearsonr(df_train.Customers, df_train.Sales)[0]"
   ]
  },
  {
   "cell_type": "markdown",
   "metadata": {},
   "source": [
    "**Findings:**"
   ]
  },
  {
   "cell_type": "markdown",
   "metadata": {},
   "source": [
    "- We can see similair patterns with the customers column and the Sales column, in fact our pearson correlation factor of 0.82 explains that there is a strong positive correlation between Sales and Customers. In general, the more customers you have in a store, the higher your sales for the day.\n",
    "\n",
    "- We see that on a specific day there was a huge amount of customers in a store,this was due to a big promotion going on. Those specific values are affecting the mean which concludes the difference between a mean of 762 and a median of 676.\n",
    "\n",
    "- We observe a right skewness in both distributions because of the low number of outliers but the high representation of each outlier alone which pushes the distribution to the lefta as seen in both histograms.This typically occurs when the mean is higher than the median."
   ]
  },
  {
   "cell_type": "markdown",
   "metadata": {},
   "source": [
    "<h3>A closer look at the Store Dataset:</h3>"
   ]
  },
  {
   "cell_type": "code",
   "execution_count": 1398,
   "metadata": {},
   "outputs": [
    {
     "data": {
      "text/plain": [
       "Store                        100.000000\n",
       "StoreType                    100.000000\n",
       "Assortment                   100.000000\n",
       "CompetitionDistance           99.730942\n",
       "CompetitionOpenSinceMonth     68.251121\n",
       "CompetitionOpenSinceYear      68.251121\n",
       "Promo2                       100.000000\n",
       "Promo2SinceWeek               51.210762\n",
       "Promo2SinceYear               51.210762\n",
       "PromoInterval                 51.210762\n",
       "dtype: float64"
      ]
     },
     "execution_count": 1398,
     "metadata": {},
     "output_type": "execute_result"
    }
   ],
   "source": [
    "df_store.count(0)/df_store.shape[0] * 100"
   ]
  },
  {
   "cell_type": "markdown",
   "metadata": {},
   "source": [
    "**Findings:**\n",
    "\n",
    "- The `Promo2SinceWeek`,`Promo2SinceYear` and `PromoInterval` variables has 51% fill rate since they are actually NULL values because there are no continuous promotion for those stores. \n",
    "\n",
    "- Instead for `CompetitionOpenSinceMonth` and `CompetitionOpenSinceYear`, it's basically missing data that we're dealing with here (68.25% fill rate), this means that we have the nearest distance of the competitor but miss the date information on when did he actually opened next to the Rossman store."
   ]
  },
  {
   "cell_type": "markdown",
   "metadata": {},
   "source": [
    "**Let's start the cleansing process by order:**"
   ]
  },
  {
   "cell_type": "markdown",
   "metadata": {},
   "source": [
    "1) `CompetitionDistance`:"
   ]
  },
  {
   "cell_type": "code",
   "execution_count": 1399,
   "metadata": {},
   "outputs": [
    {
     "data": {
      "text/html": [
       "<div>\n",
       "<style scoped>\n",
       "    .dataframe tbody tr th:only-of-type {\n",
       "        vertical-align: middle;\n",
       "    }\n",
       "\n",
       "    .dataframe tbody tr th {\n",
       "        vertical-align: top;\n",
       "    }\n",
       "\n",
       "    .dataframe thead th {\n",
       "        text-align: right;\n",
       "    }\n",
       "</style>\n",
       "<table border=\"1\" class=\"dataframe\">\n",
       "  <thead>\n",
       "    <tr style=\"text-align: right;\">\n",
       "      <th></th>\n",
       "      <th>Store</th>\n",
       "      <th>StoreType</th>\n",
       "      <th>Assortment</th>\n",
       "      <th>CompetitionDistance</th>\n",
       "      <th>CompetitionOpenSinceMonth</th>\n",
       "      <th>CompetitionOpenSinceYear</th>\n",
       "      <th>Promo2</th>\n",
       "      <th>Promo2SinceWeek</th>\n",
       "      <th>Promo2SinceYear</th>\n",
       "      <th>PromoInterval</th>\n",
       "    </tr>\n",
       "  </thead>\n",
       "  <tbody>\n",
       "    <tr>\n",
       "      <th>290</th>\n",
       "      <td>291</td>\n",
       "      <td>d</td>\n",
       "      <td>a</td>\n",
       "      <td>NaN</td>\n",
       "      <td>NaN</td>\n",
       "      <td>NaN</td>\n",
       "      <td>0</td>\n",
       "      <td>NaN</td>\n",
       "      <td>NaN</td>\n",
       "      <td>NaN</td>\n",
       "    </tr>\n",
       "    <tr>\n",
       "      <th>621</th>\n",
       "      <td>622</td>\n",
       "      <td>a</td>\n",
       "      <td>c</td>\n",
       "      <td>NaN</td>\n",
       "      <td>NaN</td>\n",
       "      <td>NaN</td>\n",
       "      <td>0</td>\n",
       "      <td>NaN</td>\n",
       "      <td>NaN</td>\n",
       "      <td>NaN</td>\n",
       "    </tr>\n",
       "    <tr>\n",
       "      <th>878</th>\n",
       "      <td>879</td>\n",
       "      <td>d</td>\n",
       "      <td>a</td>\n",
       "      <td>NaN</td>\n",
       "      <td>NaN</td>\n",
       "      <td>NaN</td>\n",
       "      <td>1</td>\n",
       "      <td>5.0</td>\n",
       "      <td>2013.0</td>\n",
       "      <td>Feb,May,Aug,Nov</td>\n",
       "    </tr>\n",
       "  </tbody>\n",
       "</table>\n",
       "</div>"
      ],
      "text/plain": [
       "     Store StoreType Assortment  CompetitionDistance  \\\n",
       "290    291         d          a                  NaN   \n",
       "621    622         a          c                  NaN   \n",
       "878    879         d          a                  NaN   \n",
       "\n",
       "     CompetitionOpenSinceMonth  CompetitionOpenSinceYear  Promo2  \\\n",
       "290                        NaN                       NaN       0   \n",
       "621                        NaN                       NaN       0   \n",
       "878                        NaN                       NaN       1   \n",
       "\n",
       "     Promo2SinceWeek  Promo2SinceYear    PromoInterval  \n",
       "290              NaN              NaN              NaN  \n",
       "621              NaN              NaN              NaN  \n",
       "878              5.0           2013.0  Feb,May,Aug,Nov  "
      ]
     },
     "execution_count": 1399,
     "metadata": {},
     "output_type": "execute_result"
    }
   ],
   "source": [
    "df_store[pd.isnull(df_store.CompetitionDistance)] \n",
    "#rows with missing values for Competition Distance, only 3 rows with null which makes sense since 99.73% is filled"
   ]
  },
  {
   "cell_type": "markdown",
   "metadata": {},
   "source": [
    "- Before deciding how to treat this,we know there are infinite ways of filling missing values.\n",
    "- The most common and simplistic approach is to fill it with either the mean or the median of this variable.\n",
    "- Let's quickly have a look at those metrics."
   ]
  },
  {
   "cell_type": "code",
   "execution_count": 1400,
   "metadata": {},
   "outputs": [
    {
     "data": {
      "text/plain": [
       "{'Mean': 5404.901079136691,\n",
       " 'Median': 2325.0,\n",
       " 'Standard Dev': 7659.7282732764415}"
      ]
     },
     "execution_count": 1400,
     "metadata": {},
     "output_type": "execute_result"
    },
    {
     "data": {
      "image/png": "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\n",
      "text/plain": [
       "<matplotlib.figure.Figure at 0x1c0e3857b8>"
      ]
     },
     "metadata": {},
     "output_type": "display_data"
    }
   ],
   "source": [
    "df_store_check_distribution=df_store.drop(df_store[pd.isnull(df_store.CompetitionDistance)].index)\n",
    "fig, axes = plt.subplots(1, 2, figsize=(17,3.5))\n",
    "axes[0].boxplot(df_store_check_distribution.CompetitionDistance, showmeans=True,vert=False,)\n",
    "axes[0].set_xlim(0,max(df_store_check_distribution.CompetitionDistance+1000))\n",
    "axes[0].set_title('Boxplot For Closest Competition')\n",
    "axes[1].hist(df_store_check_distribution.CompetitionDistance, cumulative=False, bins=30)\n",
    "axes[1].set_title(\"Closest Competition histogram\")\n",
    "axes[1].set_xlim((min(df_store_check_distribution.CompetitionDistance), max(df_store_check_distribution.CompetitionDistance)))\n",
    "{\"Mean\":np.nanmean(df_store.CompetitionDistance),\"Median\":np.nanmedian(df_store.CompetitionDistance),\"Standard Dev\":np.nanstd(df_store.CompetitionDistance)}#That's what i thought, very different values, let's see why "
   ]
  },
  {
   "cell_type": "markdown",
   "metadata": {},
   "source": [
    "We see a highly right skewed distribution for this variable with a significant difference between the mean and the median. This being caused by the amount of disperness in the data with a standard deviation of 7659, higher than the mean and the median."
   ]
  },
  {
   "cell_type": "markdown",
   "metadata": {},
   "source": [
    "**Solution:**"
   ]
  },
  {
   "cell_type": "markdown",
   "metadata": {},
   "source": [
    "- It is realistically better to input the median value to the three Nan stores then the mean since the mean is biased by those outliers."
   ]
  },
  {
   "cell_type": "code",
   "execution_count": 1401,
   "metadata": {},
   "outputs": [],
   "source": [
    "df_store['CompetitionDistance'].fillna(df_store['CompetitionDistance'].median(), inplace = True)"
   ]
  },
  {
   "cell_type": "markdown",
   "metadata": {},
   "source": [
    "2) `CompetitionOpenSinceMonth` and `CompetitionOpenSinceYear`?"
   ]
  },
  {
   "cell_type": "markdown",
   "metadata": {},
   "source": [
    "- Since we have no information whatsoever on those missing values and no accurate way of filling those values.\n",
    "- A creative way could be to apply a multilabel classification algorithm and train on the non Nan fields and then predict what could be most probably the month and year for those fields. But this approach is computationally too long.\n",
    "- So for this purpose those fields are going to be assigned to 0 .\n"
   ]
  },
  {
   "cell_type": "code",
   "execution_count": 1402,
   "metadata": {},
   "outputs": [],
   "source": [
    "df_store.CompetitionOpenSinceMonth.fillna(0, inplace = True)\n",
    "df_store.CompetitionOpenSinceYear.fillna(0,inplace=True)"
   ]
  },
  {
   "cell_type": "markdown",
   "metadata": {},
   "source": [
    "3) `Promo2SinceWeek`, `Promo2SinceYear` and `PromoInterval` ?"
   ]
  },
  {
   "cell_type": "code",
   "execution_count": 1403,
   "metadata": {},
   "outputs": [],
   "source": [
    "#df_store[pd.isnull(df_store.Promo2SinceWeek)]\n",
    "#df_store[pd.isnull(df_store.Promo2SinceWeek)& (df_store.Promo2==0)]"
   ]
  },
  {
   "cell_type": "markdown",
   "metadata": {},
   "source": [
    "**Findings:**\n",
    "- This case is pretty straighforward, all the missing values comes from fields where `Promo2`=0 which means there are no continuous promotional activities for those stores.\n",
    "- Having no promotion means those fields have to be 0 as well since they are linked to Promo2."
   ]
  },
  {
   "cell_type": "code",
   "execution_count": 1404,
   "metadata": {},
   "outputs": [],
   "source": [
    "df_store.Promo2SinceWeek.fillna(0,inplace=True)\n",
    "df_store.Promo2SinceYear.fillna(0,inplace=True)\n",
    "df_store.PromoInterval.fillna(0,inplace=True)"
   ]
  },
  {
   "cell_type": "code",
   "execution_count": 1405,
   "metadata": {},
   "outputs": [
    {
     "data": {
      "text/plain": [
       "Store                        100.0\n",
       "StoreType                    100.0\n",
       "Assortment                   100.0\n",
       "CompetitionDistance          100.0\n",
       "CompetitionOpenSinceMonth    100.0\n",
       "CompetitionOpenSinceYear     100.0\n",
       "Promo2                       100.0\n",
       "Promo2SinceWeek              100.0\n",
       "Promo2SinceYear              100.0\n",
       "PromoInterval                100.0\n",
       "dtype: float64"
      ]
     },
     "execution_count": 1405,
     "metadata": {},
     "output_type": "execute_result"
    }
   ],
   "source": [
    "df_store.count(0)/df_store.shape[0] * 100"
   ]
  },
  {
   "cell_type": "markdown",
   "metadata": {},
   "source": [
    "Now that we are done with clearing missing values, let's merge the two datasets."
   ]
  },
  {
   "cell_type": "code",
   "execution_count": 1406,
   "metadata": {},
   "outputs": [
    {
     "name": "stdout",
     "output_type": "stream",
     "text": [
      "The Train_Store dataset has 844338 Rows and 18 Variables\n"
     ]
    }
   ],
   "source": [
    "#Left-join the train to the store dataset since .Why?\n",
    "#Because you want to make sure you have all events even if some of them don't have their store information ( which shouldn't happen)\n",
    "df_train_store = pd.merge(df_train, df_store, how = 'left', on = 'Store')\n",
    "df_train_store.head() \n",
    "print (\"The Train_Store dataset has {} Rows and {} Variables\".format(str(df_train_store.shape[0]),str(df_train_store.shape[1]))) \n"
   ]
  },
  {
   "cell_type": "markdown",
   "metadata": {},
   "source": [
    "<h3>Store Type Analysis:</h3>"
   ]
  },
  {
   "cell_type": "markdown",
   "metadata": {},
   "source": [
    "The best way to asses the performance of a store type is to see what is the sales per customer so that we normalize everything and we get the store that makes its customers spend the most on average.\n"
   ]
  },
  {
   "cell_type": "markdown",
   "metadata": {},
   "source": [
    "Let's compare first the total sales of each store type, its average sales and then see how it changes when we add the customers to the equation:"
   ]
  },
  {
   "cell_type": "code",
   "execution_count": 1407,
   "metadata": {},
   "outputs": [],
   "source": [
    "df_train_store['SalesperCustomer']=df_train_store['Sales']/df_train_store['Customers']"
   ]
  },
  {
   "cell_type": "code",
   "execution_count": 1408,
   "metadata": {},
   "outputs": [
    {
     "data": {
      "text/html": [
       "<div>\n",
       "<style scoped>\n",
       "    .dataframe tbody tr th:only-of-type {\n",
       "        vertical-align: middle;\n",
       "    }\n",
       "\n",
       "    .dataframe tbody tr th {\n",
       "        vertical-align: top;\n",
       "    }\n",
       "\n",
       "    .dataframe thead th {\n",
       "        text-align: right;\n",
       "    }\n",
       "</style>\n",
       "<table border=\"1\" class=\"dataframe\">\n",
       "  <thead>\n",
       "    <tr style=\"text-align: right;\">\n",
       "      <th></th>\n",
       "      <th>Store</th>\n",
       "      <th>DayOfWeek</th>\n",
       "      <th>Date</th>\n",
       "      <th>Sales</th>\n",
       "      <th>Customers</th>\n",
       "      <th>Open</th>\n",
       "      <th>Promo</th>\n",
       "      <th>StateHoliday</th>\n",
       "      <th>SchoolHoliday</th>\n",
       "      <th>StoreType</th>\n",
       "      <th>Assortment</th>\n",
       "      <th>CompetitionDistance</th>\n",
       "      <th>CompetitionOpenSinceMonth</th>\n",
       "      <th>CompetitionOpenSinceYear</th>\n",
       "      <th>Promo2</th>\n",
       "      <th>Promo2SinceWeek</th>\n",
       "      <th>Promo2SinceYear</th>\n",
       "      <th>PromoInterval</th>\n",
       "      <th>SalesperCustomer</th>\n",
       "    </tr>\n",
       "  </thead>\n",
       "  <tbody>\n",
       "    <tr>\n",
       "      <th>0</th>\n",
       "      <td>1</td>\n",
       "      <td>5</td>\n",
       "      <td>2015-07-31</td>\n",
       "      <td>5263</td>\n",
       "      <td>555</td>\n",
       "      <td>1</td>\n",
       "      <td>1</td>\n",
       "      <td>0</td>\n",
       "      <td>1</td>\n",
       "      <td>c</td>\n",
       "      <td>a</td>\n",
       "      <td>1270.0</td>\n",
       "      <td>9.0</td>\n",
       "      <td>2008.0</td>\n",
       "      <td>0</td>\n",
       "      <td>0.0</td>\n",
       "      <td>0.0</td>\n",
       "      <td>0</td>\n",
       "      <td>9.482883</td>\n",
       "    </tr>\n",
       "    <tr>\n",
       "      <th>1</th>\n",
       "      <td>2</td>\n",
       "      <td>5</td>\n",
       "      <td>2015-07-31</td>\n",
       "      <td>6064</td>\n",
       "      <td>625</td>\n",
       "      <td>1</td>\n",
       "      <td>1</td>\n",
       "      <td>0</td>\n",
       "      <td>1</td>\n",
       "      <td>a</td>\n",
       "      <td>a</td>\n",
       "      <td>570.0</td>\n",
       "      <td>11.0</td>\n",
       "      <td>2007.0</td>\n",
       "      <td>1</td>\n",
       "      <td>13.0</td>\n",
       "      <td>2010.0</td>\n",
       "      <td>Jan,Apr,Jul,Oct</td>\n",
       "      <td>9.702400</td>\n",
       "    </tr>\n",
       "    <tr>\n",
       "      <th>2</th>\n",
       "      <td>3</td>\n",
       "      <td>5</td>\n",
       "      <td>2015-07-31</td>\n",
       "      <td>8314</td>\n",
       "      <td>821</td>\n",
       "      <td>1</td>\n",
       "      <td>1</td>\n",
       "      <td>0</td>\n",
       "      <td>1</td>\n",
       "      <td>a</td>\n",
       "      <td>a</td>\n",
       "      <td>14130.0</td>\n",
       "      <td>12.0</td>\n",
       "      <td>2006.0</td>\n",
       "      <td>1</td>\n",
       "      <td>14.0</td>\n",
       "      <td>2011.0</td>\n",
       "      <td>Jan,Apr,Jul,Oct</td>\n",
       "      <td>10.126675</td>\n",
       "    </tr>\n",
       "    <tr>\n",
       "      <th>3</th>\n",
       "      <td>4</td>\n",
       "      <td>5</td>\n",
       "      <td>2015-07-31</td>\n",
       "      <td>13995</td>\n",
       "      <td>1498</td>\n",
       "      <td>1</td>\n",
       "      <td>1</td>\n",
       "      <td>0</td>\n",
       "      <td>1</td>\n",
       "      <td>c</td>\n",
       "      <td>c</td>\n",
       "      <td>620.0</td>\n",
       "      <td>9.0</td>\n",
       "      <td>2009.0</td>\n",
       "      <td>0</td>\n",
       "      <td>0.0</td>\n",
       "      <td>0.0</td>\n",
       "      <td>0</td>\n",
       "      <td>9.342457</td>\n",
       "    </tr>\n",
       "    <tr>\n",
       "      <th>4</th>\n",
       "      <td>5</td>\n",
       "      <td>5</td>\n",
       "      <td>2015-07-31</td>\n",
       "      <td>4822</td>\n",
       "      <td>559</td>\n",
       "      <td>1</td>\n",
       "      <td>1</td>\n",
       "      <td>0</td>\n",
       "      <td>1</td>\n",
       "      <td>a</td>\n",
       "      <td>a</td>\n",
       "      <td>29910.0</td>\n",
       "      <td>4.0</td>\n",
       "      <td>2015.0</td>\n",
       "      <td>0</td>\n",
       "      <td>0.0</td>\n",
       "      <td>0.0</td>\n",
       "      <td>0</td>\n",
       "      <td>8.626118</td>\n",
       "    </tr>\n",
       "  </tbody>\n",
       "</table>\n",
       "</div>"
      ],
      "text/plain": [
       "   Store  DayOfWeek       Date  Sales  Customers  Open  Promo StateHoliday  \\\n",
       "0      1          5 2015-07-31   5263        555     1      1            0   \n",
       "1      2          5 2015-07-31   6064        625     1      1            0   \n",
       "2      3          5 2015-07-31   8314        821     1      1            0   \n",
       "3      4          5 2015-07-31  13995       1498     1      1            0   \n",
       "4      5          5 2015-07-31   4822        559     1      1            0   \n",
       "\n",
       "   SchoolHoliday StoreType Assortment  CompetitionDistance  \\\n",
       "0              1         c          a               1270.0   \n",
       "1              1         a          a                570.0   \n",
       "2              1         a          a              14130.0   \n",
       "3              1         c          c                620.0   \n",
       "4              1         a          a              29910.0   \n",
       "\n",
       "   CompetitionOpenSinceMonth  CompetitionOpenSinceYear  Promo2  \\\n",
       "0                        9.0                    2008.0       0   \n",
       "1                       11.0                    2007.0       1   \n",
       "2                       12.0                    2006.0       1   \n",
       "3                        9.0                    2009.0       0   \n",
       "4                        4.0                    2015.0       0   \n",
       "\n",
       "   Promo2SinceWeek  Promo2SinceYear    PromoInterval  SalesperCustomer  \n",
       "0              0.0              0.0                0          9.482883  \n",
       "1             13.0           2010.0  Jan,Apr,Jul,Oct          9.702400  \n",
       "2             14.0           2011.0  Jan,Apr,Jul,Oct         10.126675  \n",
       "3              0.0              0.0                0          9.342457  \n",
       "4              0.0              0.0                0          8.626118  "
      ]
     },
     "execution_count": 1408,
     "metadata": {},
     "output_type": "execute_result"
    }
   ],
   "source": [
    "df_train_store.head()"
   ]
  },
  {
   "cell_type": "code",
   "execution_count": 1409,
   "metadata": {},
   "outputs": [
    {
     "data": {
      "image/png": "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\n",
      "text/plain": [
       "<matplotlib.figure.Figure at 0x1c603346d8>"
      ]
     },
     "metadata": {},
     "output_type": "display_data"
    }
   ],
   "source": [
    "fig, axes = plt.subplots(2, 3,figsize=(17,10) )\n",
    "palette = itertools.cycle(sns.color_palette(n_colors=4))\n",
    "plt.subplots_adjust(hspace = 0.28)\n",
    "#axes[1].df_train_store.groupby(by=\"StoreType\").count().Store.plot(kind='bar')\n",
    "axes[0,0].bar(df_store.groupby(by=\"StoreType\").count().Store.index,df_store.groupby(by=\"StoreType\").count().Store,color=[next(palette),next(palette),next(palette),next(palette)])\n",
    "axes[0,0].set_title(\"Number of Stores per Store Type \\n Fig 1.1\")\n",
    "axes[0,1].bar(df_train_store.groupby(by=\"StoreType\").sum().Sales.index,df_train_store.groupby(by=\"StoreType\").sum().Sales/1e9,color=[next(palette),next(palette),next(palette),next(palette)])\n",
    "axes[0,1].set_title(\"Total Sales per Store Type (in Billions) \\n Fig 1.2\")\n",
    "axes[0,2].bar(df_train_store.groupby(by=\"StoreType\").sum().Customers.index,df_train_store.groupby(by=\"StoreType\").sum().Customers/1e6,color=[next(palette),next(palette),next(palette),next(palette)])\n",
    "axes[0,2].set_title(\"Total Number of Customers per Store Type (in Millions) \\n Fig 1.3\")\n",
    "axes[1,0].bar(df_train_store.groupby(by=\"StoreType\").sum().Customers.index,df_train_store.groupby(by=\"StoreType\").Sales.mean(),color=[next(palette),next(palette),next(palette),next(palette)])\n",
    "axes[1,0].set_title(\"Average Sales per Store Type \\n Fig 1.4\")\n",
    "axes[1,1].bar(df_train_store.groupby(by=\"StoreType\").sum().Customers.index,df_train_store.groupby(by=\"StoreType\").Customers.mean(),color=[next(palette),next(palette),next(palette),next(palette)])\n",
    "axes[1,1].set_title(\"Average Number of Customers per Store Type \\n Fig 1.5\")\n",
    "axes[1,2].bar(df_train_store.groupby(by=\"StoreType\").sum().Sales.index,df_train_store.groupby(by=\"StoreType\").SalesperCustomer.mean(),color=[next(palette),next(palette),next(palette),next(palette)])\n",
    "axes[1,2].set_title(\"Average Spending per Customer in each Store Type \\n Fig 1.6\")\n",
    "plt.show()"
   ]
  },
  {
   "cell_type": "markdown",
   "metadata": {},
   "source": [
    "**Findings:**\n",
    "- From this training set we can see that Storetype A has the highest number of branches,sales and customers from the 4 different storetypes. But this doesn't mean it's the best performing Storetype.\n",
    "\n",
    "- When looking at the average sales and number of customers, we see that actually it is Storetype B who was the highest average Sales and highest average Number of Customers. One assumption could be that if B has only 17 stores but such a high amount of average sales and customers that it is likely hyper Rossman branches whereas A would be smaller in size but much more present.\n",
    "\n",
    "- Surprisingly it is StoreType D who has the highest average spending per Customer, this is probably explained by an average competition distance higher than ther rest which means each customer will buy more since he knows there isn't a lot of similair shops around.\n",
    "\n",
    "- What would help us understand better what's happening is to look for other variables explaining this behaviour like Assortments, Comeptition and Promotions."
   ]
  },
  {
   "cell_type": "markdown",
   "metadata": {},
   "source": [
    "<h3>Assortments:</h3>"
   ]
  },
  {
   "cell_type": "markdown",
   "metadata": {},
   "source": [
    "As we cited in the description, assortments have three types and each store has a defined type and assortment type: \n",
    "- `a` means basic things\n",
    "- `b` means extra things\n",
    "- `c` means extended things so the highest variety of products.\n",
    "\n",
    "What could be interesting is to see the relationship between a store type and its respective assortment type."
   ]
  },
  {
   "cell_type": "code",
   "execution_count": 1410,
   "metadata": {},
   "outputs": [
    {
     "data": {
      "text/plain": [
       "StoreType  Assortment\n",
       "a          a             381\n",
       "           c             221\n",
       "b          a               7\n",
       "           b               9\n",
       "           c               1\n",
       "c          a              77\n",
       "           c              71\n",
       "d          a             128\n",
       "           c             220\n",
       "Name: Assortment, dtype: int64"
      ]
     },
     "execution_count": 1410,
     "metadata": {},
     "output_type": "execute_result"
    },
    {
     "data": {
      "image/png": "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\n",
      "text/plain": [
       "<matplotlib.figure.Figure at 0x1c6485def0>"
      ]
     },
     "metadata": {},
     "output_type": "display_data"
    }
   ],
   "source": [
    "StoretypeXAssortment = sns.countplot(x=\"StoreType\",hue=\"Assortment\",order=[\"a\",\"b\",\"c\",\"d\"], data=df_store,palette=sns.color_palette(\"Set2\", n_colors=3)).set_title(\"Number of Different Assortments per Store Type\")\n",
    "df_store.groupby(by=[\"StoreType\",\"Assortment\"]).Assortment.count()\n",
    "\n"
   ]
  },
  {
   "cell_type": "markdown",
   "metadata": {},
   "source": [
    "**Findings:**\n",
    "- We can clearly see here that most of the stores have either `a` assortment type or `c` assortment type.\n",
    "- Interestingly enough StoreType d which has the highest Sales per customer average actually has mostly `c` assortment type, this is most probably the reason for having this high average in Sales per customer.Having variery in stores always increases the customers spending pattern.\n",
    "- Another important factor here is the fact that store type b is the only one who has the b assortment type and a lot of them actually which stands for \"extra\" and by looking at fig 1.4 and 1.5 he's the one who has the highest number of customers and sales. Probably this formula of extra is the right middlepoint for customers between not too much variety like C assortment and not too basic like A assortment and this is what is driving the high traffic in this store."
   ]
  },
  {
   "cell_type": "markdown",
   "metadata": {},
   "source": [
    "**Promotion:**"
   ]
  },
  {
   "cell_type": "markdown",
   "metadata": {},
   "source": [
    "Let's see how Promotion affect the overall sales of Rossman by looking at when there is and when there isn't promotion over those 3 years. This allow us first to see the impact of promotion and as well to see the evolution of sales over specific years (so trends in a given year) and the gradual increase in sales from 2013 to 2015:"
   ]
  },
  {
   "cell_type": "code",
   "execution_count": 1411,
   "metadata": {},
   "outputs": [],
   "source": [
    "df_train_store['Month']=df_train_store.Date.dt.month\n",
    "df_train_store['Year']=df_train_store.Date.dt.year"
   ]
  },
  {
   "cell_type": "code",
   "execution_count": 1412,
   "metadata": {},
   "outputs": [
    {
     "data": {
      "text/plain": [
       "<seaborn.axisgrid.FacetGrid at 0x1c1451dbe0>"
      ]
     },
     "execution_count": 1412,
     "metadata": {},
     "output_type": "execute_result"
    },
    {
     "data": {
      "image/png": "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\n",
      "text/plain": [
       "<matplotlib.figure.Figure at 0x1c59ccd978>"
      ]
     },
     "metadata": {},
     "output_type": "display_data"
    }
   ],
   "source": [
    "\n",
    "sns.factorplot(data = df_train_store, x =\"Month\", y = \"Sales\", \n",
    "               col = 'Promo', # per store type in cols\n",
    "               hue = 'Promo2',\n",
    "               row = \"Year\"\n",
    "              ,sharex=False)\n"
   ]
  },
  {
   "cell_type": "code",
   "execution_count": 1413,
   "metadata": {},
   "outputs": [
    {
     "data": {
      "text/plain": [
       "<seaborn.axisgrid.FacetGrid at 0x1a8a8fc8d0>"
      ]
     },
     "execution_count": 1413,
     "metadata": {},
     "output_type": "execute_result"
    },
    {
     "data": {
      "image/png": "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\n",
      "text/plain": [
       "<matplotlib.figure.Figure at 0x1a61481fd0>"
      ]
     },
     "metadata": {},
     "output_type": "display_data"
    }
   ],
   "source": [
    "sns.factorplot(data = df_train_store, x =\"Month\", y = \"SalesperCustomer\", \n",
    "               col = 'Promo', # per store type in cols\n",
    "               hue = 'Promo2',\n",
    "               row = \"Year\"\n",
    "              ,sharex=False)"
   ]
  },
  {
   "cell_type": "markdown",
   "metadata": {},
   "source": [
    "**Findings:**\n",
    "- We see the dramatic change when we compare having promotion `Promo`=1 to not having promotion `Promo`=0 and can conclude that a store that have promotion on a given day changes its amount of sales considerably.\n",
    "- But Surprisingly, when we check more granularly at the `Promo2` variable (indicating a contunious promotion blue vs orange) we see that in general when there is no consecutive promotion stores tend to sell more then with consecutive promotion. This is probably a solution they're putting in place to treat stores with very low sales in the first place. And indeed when checking the Sales per Customer over promotion we understand that initially those stores suffer from low sales and those continuous promotion shows a tremending increase in the buying power of customers.\n",
    "- If we look over the years,there is a slight increase Year over Year but we don't see any major change from 2013 to 2015 and we actually see a very similair pattern in the months over the years with major spikes first around Easter period in March and April then in Summer in May,June and July and then finally around the Christmas period in November and December."
   ]
  },
  {
   "cell_type": "markdown",
   "metadata": {},
   "source": [
    "What if we go more granular to look at days in a week for promotion impact?"
   ]
  },
  {
   "cell_type": "code",
   "execution_count": 1414,
   "metadata": {},
   "outputs": [
    {
     "data": {
      "text/plain": [
       "<seaborn.axisgrid.FacetGrid at 0x1aa001b7f0>"
      ]
     },
     "execution_count": 1414,
     "metadata": {},
     "output_type": "execute_result"
    },
    {
     "data": {
      "image/png": "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\n",
      "text/plain": [
       "<matplotlib.figure.Figure at 0x1a8a8fc7f0>"
      ]
     },
     "metadata": {},
     "output_type": "display_data"
    }
   ],
   "source": [
    "sns.factorplot(data = df_train_store, x =\"DayOfWeek\", y = \"Sales\",\n",
    "                hue='Promo'\n",
    "              ,sharex=False)"
   ]
  },
  {
   "cell_type": "code",
   "execution_count": 1415,
   "metadata": {},
   "outputs": [
    {
     "name": "stdout",
     "output_type": "stream",
     "text": [
      "Number of Stores opened on Sundays:33\n"
     ]
    }
   ],
   "source": [
    "#33 Stores are opened on Sundays\n",
    "print (\"Number of Stores opened on Sundays:{}\" .format(df_train_store[(df_train_store.Open == 1) & (df_train_store.DayOfWeek == 7)]['Store'].unique().shape[0]))"
   ]
  },
  {
   "cell_type": "markdown",
   "metadata": {},
   "source": [
    "**Findings:**\n",
    "- We see already a big difference again even on a week level (from Monday to Friday) when we seperate promotion and no promotion.We see there are no promotions during the weekend.\n",
    "\n",
    "- For Sunday to have such a high peak is understandable, since a very few stores opens on Sundays (only 33);if anyone needs anything urgently and don't have the time to get it during the week, he will have to do some distance to get to the open ones even if it's not close to his house. This means that those 33 open stores on Sunday actually accounts for the potential demand if all Rossman Stores were closed on Sundays. This clearly shows us how important it is for stores to be opened on Sundays.\n",
    "\n",
    "- After attempting to look at Sales behaviour in a week over the Years and over the months, i concluded that the pattern doesn't change, which means all the time there is a peak on Mondays with promotions, a tiny peak on Friday before the weekend and a big peak on Sunday because of closed stores."
   ]
  },
  {
   "cell_type": "markdown",
   "metadata": {},
   "source": [
    "**Competition Distance:**"
   ]
  },
  {
   "cell_type": "markdown",
   "metadata": {},
   "source": [
    "What i find also interesting to plot is the effect of the closest competition distance on Sales, to see whether the one with very far competition actually make more sales then the one with close competition."
   ]
  },
  {
   "cell_type": "markdown",
   "metadata": {},
   "source": [
    "Since `CompetitionDistance` is a continuous variable, we need to first convert it into a categorical variable with 5 different bins (i chose this number by looking at the distribution and to keep aesthetic)."
   ]
  },
  {
   "cell_type": "code",
   "execution_count": 1416,
   "metadata": {},
   "outputs": [],
   "source": [
    "df_train_store['CompetitionDist_Cat']=pd.cut(df_train_store['CompetitionDistance'], 5)"
   ]
  },
  {
   "cell_type": "code",
   "execution_count": 1417,
   "metadata": {},
   "outputs": [
    {
     "data": {
      "text/html": [
       "<div>\n",
       "<style scoped>\n",
       "    .dataframe tbody tr th:only-of-type {\n",
       "        vertical-align: middle;\n",
       "    }\n",
       "\n",
       "    .dataframe tbody tr th {\n",
       "        vertical-align: top;\n",
       "    }\n",
       "\n",
       "    .dataframe thead th {\n",
       "        text-align: right;\n",
       "    }\n",
       "</style>\n",
       "<table border=\"1\" class=\"dataframe\">\n",
       "  <thead>\n",
       "    <tr style=\"text-align: right;\">\n",
       "      <th></th>\n",
       "      <th>Store</th>\n",
       "      <th>DayOfWeek</th>\n",
       "      <th>Date</th>\n",
       "      <th>Sales</th>\n",
       "      <th>Customers</th>\n",
       "      <th>Open</th>\n",
       "      <th>Promo</th>\n",
       "      <th>StateHoliday</th>\n",
       "      <th>SchoolHoliday</th>\n",
       "      <th>StoreType</th>\n",
       "      <th>...</th>\n",
       "      <th>CompetitionOpenSinceMonth</th>\n",
       "      <th>CompetitionOpenSinceYear</th>\n",
       "      <th>Promo2</th>\n",
       "      <th>Promo2SinceWeek</th>\n",
       "      <th>Promo2SinceYear</th>\n",
       "      <th>PromoInterval</th>\n",
       "      <th>SalesperCustomer</th>\n",
       "      <th>Month</th>\n",
       "      <th>Year</th>\n",
       "      <th>CompetitionDist_Cat</th>\n",
       "    </tr>\n",
       "  </thead>\n",
       "  <tbody>\n",
       "    <tr>\n",
       "      <th>0</th>\n",
       "      <td>1</td>\n",
       "      <td>5</td>\n",
       "      <td>2015-07-31</td>\n",
       "      <td>5263</td>\n",
       "      <td>555</td>\n",
       "      <td>1</td>\n",
       "      <td>1</td>\n",
       "      <td>0</td>\n",
       "      <td>1</td>\n",
       "      <td>c</td>\n",
       "      <td>...</td>\n",
       "      <td>9.0</td>\n",
       "      <td>2008.0</td>\n",
       "      <td>0</td>\n",
       "      <td>0.0</td>\n",
       "      <td>0.0</td>\n",
       "      <td>0</td>\n",
       "      <td>9.482883</td>\n",
       "      <td>7</td>\n",
       "      <td>2015</td>\n",
       "      <td>(-55.84, 15188.0]</td>\n",
       "    </tr>\n",
       "    <tr>\n",
       "      <th>1</th>\n",
       "      <td>2</td>\n",
       "      <td>5</td>\n",
       "      <td>2015-07-31</td>\n",
       "      <td>6064</td>\n",
       "      <td>625</td>\n",
       "      <td>1</td>\n",
       "      <td>1</td>\n",
       "      <td>0</td>\n",
       "      <td>1</td>\n",
       "      <td>a</td>\n",
       "      <td>...</td>\n",
       "      <td>11.0</td>\n",
       "      <td>2007.0</td>\n",
       "      <td>1</td>\n",
       "      <td>13.0</td>\n",
       "      <td>2010.0</td>\n",
       "      <td>Jan,Apr,Jul,Oct</td>\n",
       "      <td>9.702400</td>\n",
       "      <td>7</td>\n",
       "      <td>2015</td>\n",
       "      <td>(-55.84, 15188.0]</td>\n",
       "    </tr>\n",
       "    <tr>\n",
       "      <th>2</th>\n",
       "      <td>3</td>\n",
       "      <td>5</td>\n",
       "      <td>2015-07-31</td>\n",
       "      <td>8314</td>\n",
       "      <td>821</td>\n",
       "      <td>1</td>\n",
       "      <td>1</td>\n",
       "      <td>0</td>\n",
       "      <td>1</td>\n",
       "      <td>a</td>\n",
       "      <td>...</td>\n",
       "      <td>12.0</td>\n",
       "      <td>2006.0</td>\n",
       "      <td>1</td>\n",
       "      <td>14.0</td>\n",
       "      <td>2011.0</td>\n",
       "      <td>Jan,Apr,Jul,Oct</td>\n",
       "      <td>10.126675</td>\n",
       "      <td>7</td>\n",
       "      <td>2015</td>\n",
       "      <td>(-55.84, 15188.0]</td>\n",
       "    </tr>\n",
       "    <tr>\n",
       "      <th>3</th>\n",
       "      <td>4</td>\n",
       "      <td>5</td>\n",
       "      <td>2015-07-31</td>\n",
       "      <td>13995</td>\n",
       "      <td>1498</td>\n",
       "      <td>1</td>\n",
       "      <td>1</td>\n",
       "      <td>0</td>\n",
       "      <td>1</td>\n",
       "      <td>c</td>\n",
       "      <td>...</td>\n",
       "      <td>9.0</td>\n",
       "      <td>2009.0</td>\n",
       "      <td>0</td>\n",
       "      <td>0.0</td>\n",
       "      <td>0.0</td>\n",
       "      <td>0</td>\n",
       "      <td>9.342457</td>\n",
       "      <td>7</td>\n",
       "      <td>2015</td>\n",
       "      <td>(-55.84, 15188.0]</td>\n",
       "    </tr>\n",
       "    <tr>\n",
       "      <th>4</th>\n",
       "      <td>5</td>\n",
       "      <td>5</td>\n",
       "      <td>2015-07-31</td>\n",
       "      <td>4822</td>\n",
       "      <td>559</td>\n",
       "      <td>1</td>\n",
       "      <td>1</td>\n",
       "      <td>0</td>\n",
       "      <td>1</td>\n",
       "      <td>a</td>\n",
       "      <td>...</td>\n",
       "      <td>4.0</td>\n",
       "      <td>2015.0</td>\n",
       "      <td>0</td>\n",
       "      <td>0.0</td>\n",
       "      <td>0.0</td>\n",
       "      <td>0</td>\n",
       "      <td>8.626118</td>\n",
       "      <td>7</td>\n",
       "      <td>2015</td>\n",
       "      <td>(15188.0, 30356.0]</td>\n",
       "    </tr>\n",
       "  </tbody>\n",
       "</table>\n",
       "<p>5 rows × 22 columns</p>\n",
       "</div>"
      ],
      "text/plain": [
       "   Store  DayOfWeek       Date  Sales  Customers  Open  Promo StateHoliday  \\\n",
       "0      1          5 2015-07-31   5263        555     1      1            0   \n",
       "1      2          5 2015-07-31   6064        625     1      1            0   \n",
       "2      3          5 2015-07-31   8314        821     1      1            0   \n",
       "3      4          5 2015-07-31  13995       1498     1      1            0   \n",
       "4      5          5 2015-07-31   4822        559     1      1            0   \n",
       "\n",
       "   SchoolHoliday StoreType         ...          CompetitionOpenSinceMonth  \\\n",
       "0              1         c         ...                                9.0   \n",
       "1              1         a         ...                               11.0   \n",
       "2              1         a         ...                               12.0   \n",
       "3              1         c         ...                                9.0   \n",
       "4              1         a         ...                                4.0   \n",
       "\n",
       "   CompetitionOpenSinceYear  Promo2  Promo2SinceWeek  Promo2SinceYear  \\\n",
       "0                    2008.0       0              0.0              0.0   \n",
       "1                    2007.0       1             13.0           2010.0   \n",
       "2                    2006.0       1             14.0           2011.0   \n",
       "3                    2009.0       0              0.0              0.0   \n",
       "4                    2015.0       0              0.0              0.0   \n",
       "\n",
       "     PromoInterval  SalesperCustomer Month  Year  CompetitionDist_Cat  \n",
       "0                0          9.482883     7  2015    (-55.84, 15188.0]  \n",
       "1  Jan,Apr,Jul,Oct          9.702400     7  2015    (-55.84, 15188.0]  \n",
       "2  Jan,Apr,Jul,Oct         10.126675     7  2015    (-55.84, 15188.0]  \n",
       "3                0          9.342457     7  2015    (-55.84, 15188.0]  \n",
       "4                0          8.626118     7  2015   (15188.0, 30356.0]  \n",
       "\n",
       "[5 rows x 22 columns]"
      ]
     },
     "execution_count": 1417,
     "metadata": {},
     "output_type": "execute_result"
    }
   ],
   "source": [
    "df_train_store.head()"
   ]
  },
  {
   "cell_type": "code",
   "execution_count": 1419,
   "metadata": {},
   "outputs": [
    {
     "data": {
      "text/plain": [
       "(CompetitionDist_Cat\n",
       " (-55.84, 15188.0]     6957.360876\n",
       " (15188.0, 30356.0]    7041.604692\n",
       " (30356.0, 45524.0]    6471.923562\n",
       " (45524.0, 60692.0]    5980.114445\n",
       " (60692.0, 75860.0]    7775.446449\n",
       " Name: Sales, dtype: float64, CompetitionDist_Cat\n",
       " (-55.84, 15188.0]     771.345223\n",
       " (15188.0, 30356.0]    691.574605\n",
       " (30356.0, 45524.0]    680.101854\n",
       " (45524.0, 60692.0]    643.988246\n",
       " (60692.0, 75860.0]    914.574972\n",
       " Name: Customers, dtype: float64)"
      ]
     },
     "execution_count": 1419,
     "metadata": {},
     "output_type": "execute_result"
    }
   ],
   "source": [
    "df_train_store.groupby(by=\"CompetitionDist_Cat\").Sales.mean(),df_train_store.groupby(by=\"CompetitionDist_Cat\").Customers.mean()"
   ]
  },
  {
   "cell_type": "markdown",
   "metadata": {},
   "source": [
    "**Findings:**\n",
    "- As we can see here, like i thought, the stores that are the furthest have the highest average sales and number of customers.\n",
    "- This doesn't mean automatically that the furthest the better, but it does shed light on the fact that when there are no competition nearby, stores tend to sell more and have more customers because there are almost a monopoly in this region. We could think of it as McDonalds on highways where there are no other restaurants around, people who are hungry are forced to go there to eat."
   ]
  },
  {
   "cell_type": "markdown",
   "metadata": {},
   "source": [
    "<h2>Preliminary Step for Correlation Analysis:</h2>"
   ]
  },
  {
   "cell_type": "markdown",
   "metadata": {},
   "source": [
    "Since we need numerical variables for both our correlation Analysis and to feed the decision tree based models, we need to transform what is not numerical to a numerical representation while keeping the logic behind it present."
   ]
  },
  {
   "cell_type": "markdown",
   "metadata": {},
   "source": [
    "Since we used `CompetitionDist_Cat` just to show the variation of the variable `CompetitionDistance` we can go ahead and remove it now."
   ]
  },
  {
   "cell_type": "code",
   "execution_count": 1420,
   "metadata": {
    "scrolled": true
   },
   "outputs": [],
   "source": [
    "del df_train_store[\"CompetitionDist_Cat\"]"
   ]
  },
  {
   "cell_type": "markdown",
   "metadata": {},
   "source": [
    "Let's get Days from Date and delete Date since we already have its Year and Month:"
   ]
  },
  {
   "cell_type": "code",
   "execution_count": 1421,
   "metadata": {},
   "outputs": [],
   "source": [
    "df_train_store['Day']=df_train_store.Date.dt.day"
   ]
  },
  {
   "cell_type": "code",
   "execution_count": 1422,
   "metadata": {},
   "outputs": [],
   "source": [
    "del df_train_store[\"Date\"]"
   ]
  },
  {
   "cell_type": "markdown",
   "metadata": {},
   "source": [
    "We still have StoreType,Assortment and StateHoliday as Obejcts we need to convert them to numerical categories:\n",
    "\n",
    "But first we need to make sure we don't have Nan before doing those transformations otherwise Nan will be equal to -1"
   ]
  },
  {
   "cell_type": "code",
   "execution_count": 1423,
   "metadata": {},
   "outputs": [
    {
     "data": {
      "text/plain": [
       "(False, False, False)"
      ]
     },
     "execution_count": 1423,
     "metadata": {},
     "output_type": "execute_result"
    }
   ],
   "source": [
    "df_train_store['StoreType'].isnull().any(),df_train_store['Assortment'].isnull().any(),df_train_store['StateHoliday'].isnull().any()\n",
    "#No Null values we can proceed with the transformation"
   ]
  },
  {
   "cell_type": "code",
   "execution_count": 1424,
   "metadata": {},
   "outputs": [
    {
     "data": {
      "text/plain": [
       "(a    457042\n",
       " d    258768\n",
       " c    112968\n",
       " b     15560\n",
       " Name: StoreType, dtype: int64, a    444875\n",
       " c    391254\n",
       " b      8209\n",
       " Name: Assortment, dtype: int64, 0    843428\n",
       " a       694\n",
       " b       145\n",
       " c        71\n",
       " Name: StateHoliday, dtype: int64)"
      ]
     },
     "execution_count": 1424,
     "metadata": {},
     "output_type": "execute_result"
    }
   ],
   "source": [
    "df_train_store[\"StoreType\"].value_counts(),df_train_store[\"Assortment\"].value_counts(),df_train_store[\"StateHoliday\"].value_counts()"
   ]
  },
  {
   "cell_type": "code",
   "execution_count": 1425,
   "metadata": {},
   "outputs": [],
   "source": [
    "df_train_store['StateHoliday'] = df_train_store['StateHoliday'].astype('category')\n",
    "df_train_store['Assortment'] = df_train_store['Assortment'].astype('category')\n",
    "df_train_store['StoreType'] = df_train_store['StoreType'].astype('category')\n",
    "df_train_store['PromoInterval']= df_train_store['PromoInterval'].astype('category')"
   ]
  },
  {
   "cell_type": "code",
   "execution_count": 1426,
   "metadata": {},
   "outputs": [],
   "source": [
    "df_train_store['StateHoliday_cat'] = df_train_store['StateHoliday'].cat.codes\n",
    "df_train_store['Assortment_cat'] = df_train_store['Assortment'].cat.codes\n",
    "df_train_store['StoreType_cat'] = df_train_store['StoreType'].cat.codes\n",
    "df_train_store['PromoInterval_cat'] = df_train_store['PromoInterval'].cat.codes\n",
    "\n"
   ]
  },
  {
   "cell_type": "code",
   "execution_count": 1427,
   "metadata": {},
   "outputs": [],
   "source": [
    "df_train_store['StateHoliday_cat'] = df_train_store['StateHoliday_cat'].astype('float')\n",
    "df_train_store['Assortment_cat'] = df_train_store['Assortment_cat'].astype('float')\n",
    "df_train_store['StoreType_cat'] = df_train_store['StoreType_cat'].astype('float')\n",
    "df_train_store['PromoInterval_cat'] = df_train_store['PromoInterval_cat'].astype('float')"
   ]
  },
  {
   "cell_type": "markdown",
   "metadata": {},
   "source": [
    "Since associating 0,1,2,3 to categorical variables like StoreType,Assortment,StateHoliday affect the bias of the algorithm (0 would account less then 3 when actually StoreType a and StoreType c should be treated equally).\n",
    "I will just convert it to categorical now for the purpose of the correlation analysis and then use the get_dummies function to encode them binarly."
   ]
  },
  {
   "cell_type": "code",
   "execution_count": 1428,
   "metadata": {},
   "outputs": [],
   "source": [
    "\n",
    "#df_train_store[['StateHoliday', 'StoreType', 'Assortment']] = df_train_store[['StateHoliday', 'StoreType', 'Assortment']].apply(lambda x: x.cat.codes)"
   ]
  },
  {
   "cell_type": "code",
   "execution_count": 1429,
   "metadata": {},
   "outputs": [
    {
     "data": {
      "text/plain": [
       "Store                           int64\n",
       "DayOfWeek                       int64\n",
       "Sales                           int64\n",
       "Customers                       int64\n",
       "Open                            int64\n",
       "Promo                           int64\n",
       "StateHoliday                 category\n",
       "SchoolHoliday                   int64\n",
       "StoreType                    category\n",
       "Assortment                   category\n",
       "CompetitionDistance           float64\n",
       "CompetitionOpenSinceMonth     float64\n",
       "CompetitionOpenSinceYear      float64\n",
       "Promo2                          int64\n",
       "Promo2SinceWeek               float64\n",
       "Promo2SinceYear               float64\n",
       "PromoInterval                category\n",
       "SalesperCustomer              float64\n",
       "Month                           int64\n",
       "Year                            int64\n",
       "Day                             int64\n",
       "StateHoliday_cat              float64\n",
       "Assortment_cat                float64\n",
       "StoreType_cat                 float64\n",
       "PromoInterval_cat             float64\n",
       "dtype: object"
      ]
     },
     "execution_count": 1429,
     "metadata": {},
     "output_type": "execute_result"
    }
   ],
   "source": [
    "df_train_store.dtypes"
   ]
  },
  {
   "cell_type": "markdown",
   "metadata": {},
   "source": [
    "<h3>Correlation Analysis:</h3>"
   ]
  },
  {
   "cell_type": "code",
   "execution_count": 1430,
   "metadata": {},
   "outputs": [],
   "source": [
    "df_correlation=df_train_store[['Store', 'DayOfWeek', 'Sales', 'Customers', 'Open', 'Promo',\n",
    "        'SchoolHoliday',\n",
    "       'CompetitionDistance', 'CompetitionOpenSinceMonth',\n",
    "       'CompetitionOpenSinceYear', 'Promo2', 'Promo2SinceWeek',\n",
    "       'Promo2SinceYear', 'SalesperCustomer', 'Month', 'Year',\n",
    "       'Day', 'StateHoliday_cat', 'Assortment_cat', 'StoreType_cat',\n",
    "       'PromoInterval_cat']]"
   ]
  },
  {
   "cell_type": "code",
   "execution_count": 1431,
   "metadata": {},
   "outputs": [],
   "source": [
    "df_correlation=df_correlation.drop('Open', axis = 1)"
   ]
  },
  {
   "cell_type": "code",
   "execution_count": 1432,
   "metadata": {},
   "outputs": [
    {
     "data": {
      "text/plain": [
       "<matplotlib.axes._subplots.AxesSubplot at 0x1aaba707b8>"
      ]
     },
     "execution_count": 1432,
     "metadata": {},
     "output_type": "execute_result"
    },
    {
     "data": {
      "image/png": "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\n",
      "text/plain": [
       "<matplotlib.figure.Figure at 0x1aaba77ac8>"
      ]
     },
     "metadata": {},
     "output_type": "display_data"
    }
   ],
   "source": [
    "upper_triangle = np.zeros_like(df_correlation.corr(), dtype = np.bool)\n",
    "upper_triangle[np.triu_indices_from(upper_triangle)] = True #make sure we don't show half of the other triangle\n",
    "f, ax = plt.subplots(figsize = (15, 10))\n",
    "sns.heatmap(df_correlation.corr(),ax=ax,mask=upper_triangle,annot=True, fmt='.2f',linewidths=0.5,cmap=sns.diverging_palette(10, 133, as_cmap=True))"
   ]
  },
  {
   "cell_type": "markdown",
   "metadata": {},
   "source": [
    "**Interpretation:**\n",
    "- We can first see the 0.82 between Customers and sales which suggests that they are positively correlated like we stated above in the analysis.\n",
    "- It's interesting to see that Sales per Customer and Promo (0.28) actually correlate positively, since running a promotion increases that number .\n",
    "- Sales per Customer also correlates with Competition Distance(0.21), in a positive manner, like i said up the higher the competitionn distance the more sales per customer we do, which makes sense , the further our competition, the more monopolization Rossman can achieve in the region.\n",
    "- Additionally, the effect of promo2 to Sales per Customer like we said above as well(0.22), it  did provoke a change in the buying pattern and increased it when continuous promotion were applied.\n",
    "- Finally, we can see that StoreType does play a major role with Sales per Customer (0.44), this is probably due to my encoding of the store type variable which suggests that the high categories like d which is equal 4 has higher weight, but if not then it makes sense that the last categories like d does explain the increase in Sales per Customer like fig 1.6 shows."
   ]
  },
  {
   "cell_type": "markdown",
   "metadata": {},
   "source": [
    "<h3>Conclusion of Exploratory Analysis:</h3>"
   ]
  },
  {
   "cell_type": "markdown",
   "metadata": {},
   "source": [
    "At this stage, we got a solid understanding of the distributions, the statistical properties and the relationships of our variables.\n",
    "The next step is to identify what variables to feed XGboost and Random Forest for training and to work on the modeling part of the project"
   ]
  },
  {
   "cell_type": "markdown",
   "metadata": {},
   "source": [
    "<h2>Training with RandomForest Regressor:</h2>"
   ]
  },
  {
   "cell_type": "markdown",
   "metadata": {},
   "source": [
    "**Definition:**\n",
    "\n",
    "- RandomForest is a machine learning alogrithm used for classification and regression that is bestly used with structured and tabular data."
   ]
  },
  {
   "cell_type": "markdown",
   "metadata": {},
   "source": [
    "**Its advantages:**\n",
    "    \n",
    "- Random forest runtimes are quite fast, and they are able to deal with unbalanced and missing data.\n",
    "- The process of averaging or combining the results of different decision trees helps to overcome the problem of overfitting.\n",
    "- They also do not require preparation of the input data. You do not have to scale the data.\n",
    "\n",
    "**Its Disadvantages:**\n",
    "- The main drawback of Random Forests is the model size. You could easily end up with a forest that takes hundreds of megabytes of memory and is slow to evaluate.\n",
    "- They get a bit harder to interpret than regular deicison trees, since we are constructing of forest of more than 50 decision trees and more using grid search.\n"
   ]
  },
  {
   "cell_type": "markdown",
   "metadata": {},
   "source": [
    "**Further Feature Engineering before Training:**"
   ]
  },
  {
   "cell_type": "markdown",
   "metadata": {},
   "source": [
    "-Since the competition variables `CompetitionOpenSinceYear` and `CompeitionOpenSinceMonth` have the same underlying meaning, merging them into one variable that we call `CompetitionOpenSince` makes easier for the algorithm to understand the pattern and creates less branches and thus complex trees."
   ]
  },
  {
   "cell_type": "code",
   "execution_count": 1433,
   "metadata": {},
   "outputs": [
    {
     "data": {
      "text/plain": [
       "Index(['Store', 'DayOfWeek', 'Sales', 'Customers', 'Open', 'Promo',\n",
       "       'StateHoliday', 'SchoolHoliday', 'StoreType', 'Assortment',\n",
       "       'CompetitionDistance', 'CompetitionOpenSinceMonth',\n",
       "       'CompetitionOpenSinceYear', 'Promo2', 'Promo2SinceWeek',\n",
       "       'Promo2SinceYear', 'PromoInterval', 'SalesperCustomer', 'Month', 'Year',\n",
       "       'Day', 'StateHoliday_cat', 'Assortment_cat', 'StoreType_cat',\n",
       "       'PromoInterval_cat'],\n",
       "      dtype='object')"
      ]
     },
     "execution_count": 1433,
     "metadata": {},
     "output_type": "execute_result"
    }
   ],
   "source": [
    "df_train_store.columns"
   ]
  },
  {
   "cell_type": "code",
   "execution_count": 1434,
   "metadata": {},
   "outputs": [],
   "source": [
    "df_train_store['CompetitionOpenSince'] = np.where((df_train_store['CompetitionOpenSinceMonth']==0) & (df_train_store['CompetitionOpenSinceYear']==0) , 0,(df_train_store.Month - df_train_store.CompetitionOpenSinceMonth) + \n",
    "                                       (12 * (df_train_store.Year - df_train_store.CompetitionOpenSinceYear)) )"
   ]
  },
  {
   "cell_type": "code",
   "execution_count": 1435,
   "metadata": {},
   "outputs": [],
   "source": [
    "#now that CompetitionOpenSince is created \n",
    "#we can get rid of `CompetitionOpenSinceYear` and `CompeitionOpenSinceMonth`\n",
    "del df_train_store['CompetitionOpenSinceYear']\n",
    "del df_train_store['CompetitionOpenSinceMonth']\n"
   ]
  },
  {
   "cell_type": "markdown",
   "metadata": {},
   "source": [
    "-The `StateHoliday` is not very important to distinguish (what type of holiday) and can be merged in a binary variable called `is_holiday_state`."
   ]
  },
  {
   "cell_type": "code",
   "execution_count": 1436,
   "metadata": {},
   "outputs": [],
   "source": [
    "df_train_store[\"is_holiday_state\"] = df_train_store['StateHoliday'].map({\"0\": 0, \"a\": 1, \"b\": 1, \"c\": 1})"
   ]
  },
  {
   "cell_type": "code",
   "execution_count": 1437,
   "metadata": {},
   "outputs": [],
   "source": [
    "del df_train_store['StateHoliday_cat']"
   ]
  },
  {
   "cell_type": "markdown",
   "metadata": {},
   "source": [
    "-I think it's always better when working with decision tree based models to have dummy variables instead of categorical with different levels, because this alters the bias of the algorithm who will favor a higher weight to the categories like 4 and deprioritize levels like 1. And this problem could rise in the variables `Assortment` and `StoreType` and `PromoInterval`.\n",
    "So far those are the codes we have for each variable:\n",
    "\n",
    "-That's why i use the get_dummies function to instead do a binary encoding and prevent this."
   ]
  },
  {
   "cell_type": "code",
   "execution_count": 1438,
   "metadata": {},
   "outputs": [],
   "source": [
    "df_train_store=pd.get_dummies(df_train_store, columns=[\"Assortment\", \"StoreType\",\"PromoInterval\"], prefix=[\"is_Assortment\", \"is_StoreType\",\"is_PromoInteval\"])"
   ]
  },
  {
   "cell_type": "code",
   "execution_count": 1439,
   "metadata": {
    "scrolled": true
   },
   "outputs": [],
   "source": [
    "del df_train_store['Assortment_cat']\n",
    "del df_train_store['StoreType_cat']\n"
   ]
  },
  {
   "cell_type": "code",
   "execution_count": 1440,
   "metadata": {},
   "outputs": [],
   "source": [
    "del df_train_store['PromoInterval_cat']"
   ]
  },
  {
   "cell_type": "code",
   "execution_count": 1441,
   "metadata": {},
   "outputs": [
    {
     "data": {
      "text/plain": [
       "Index(['Store', 'DayOfWeek', 'Sales', 'Customers', 'Open', 'Promo',\n",
       "       'StateHoliday', 'SchoolHoliday', 'CompetitionDistance', 'Promo2',\n",
       "       'Promo2SinceWeek', 'Promo2SinceYear', 'SalesperCustomer', 'Month',\n",
       "       'Year', 'Day', 'CompetitionOpenSince', 'is_holiday_state',\n",
       "       'is_Assortment_a', 'is_Assortment_b', 'is_Assortment_c',\n",
       "       'is_StoreType_a', 'is_StoreType_b', 'is_StoreType_c', 'is_StoreType_d',\n",
       "       'is_PromoInteval_0', 'is_PromoInteval_Feb,May,Aug,Nov',\n",
       "       'is_PromoInteval_Jan,Apr,Jul,Oct', 'is_PromoInteval_Mar,Jun,Sept,Dec'],\n",
       "      dtype='object')"
      ]
     },
     "execution_count": 1441,
     "metadata": {},
     "output_type": "execute_result"
    }
   ],
   "source": [
    "df_train_store.columns"
   ]
  },
  {
   "cell_type": "markdown",
   "metadata": {},
   "source": [
    "- The Train set is ready to be fed to the RandomForest Algorithm.\n",
    "- Let's do the same transformation for the test set now."
   ]
  },
  {
   "cell_type": "markdown",
   "metadata": {},
   "source": [
    "<h3>Test Set Adaptation:</h3>"
   ]
  },
  {
   "cell_type": "code",
   "execution_count": 1536,
   "metadata": {},
   "outputs": [
    {
     "name": "stdout",
     "output_type": "stream",
     "text": [
      "The Test dataset has 41088 Rows and 8 Variables\n"
     ]
    }
   ],
   "source": [
    "df_test = pd.read_csv(\"/Users/stefanozakher/Desktop/Rossman Kaggle Competition/input/test.csv\",sep=',', parse_dates=['Date']\n",
    "                       , date_parser=str_to_date,\n",
    "                       low_memory = False)\n",
    "print (\"The Test dataset has {} Rows and {} Variables\".format(str(df_test.shape[0]),str(df_test.shape[1])))"
   ]
  },
  {
   "cell_type": "code",
   "execution_count": 1537,
   "metadata": {},
   "outputs": [
    {
     "name": "stdout",
     "output_type": "stream",
     "text": [
      "The Test_Store dataset has 41088 Rows and 17 Variables\n"
     ]
    }
   ],
   "source": [
    "df_test.fillna(1, inplace = True) #11rows with Nans decided to leave them open since its one store 622 which is \n",
    "#usually open\n",
    "#Left-join the train to the store dataset since .Why?\n",
    "#Because you want to make sure you have all events even if some of them don't have their store information ( which shouldn't happen)\n",
    "df_test_store = pd.merge(df_test, df_store, how = 'left', on = 'Store')\n",
    "print (\"The Test_Store dataset has {} Rows and {} Variables\".format(str(df_test_store.shape[0]),str(df_test_store.shape[1]))) \n",
    "df_test_store['Month']=df_test_store.Date.dt.month\n",
    "df_test_store['Year']=df_test_store.Date.dt.year\n",
    "df_test_store['Day']=df_test_store.Date.dt.day\n",
    "\n",
    "df_test_store['StateHoliday'] = df_test_store['StateHoliday'].astype('category')\n",
    "df_test_store['Assortment'] = df_test_store['Assortment'].astype('category')\n",
    "df_test_store['StoreType'] = df_test_store['StoreType'].astype('category')\n",
    "df_test_store['PromoInterval']= df_test_store['PromoInterval'].astype('category')\n",
    "df_test_store['StateHoliday_cat'] = df_test_store['StateHoliday'].cat.codes\n",
    "df_test_store['Assortment_cat'] = df_test_store['Assortment'].cat.codes\n",
    "df_test_store['StoreType_cat'] = df_test_store['StoreType'].cat.codes\n",
    "df_test_store['PromoInterval_cat'] = df_test_store['PromoInterval'].cat.codes\n",
    "df_test_store['StateHoliday_cat'] = df_test_store['StateHoliday_cat'].astype('float')\n",
    "df_test_store['Assortment_cat'] = df_test_store['Assortment_cat'].astype('float')\n",
    "df_test_store['StoreType_cat'] = df_test_store['StoreType_cat'].astype('float')\n",
    "df_test_store['PromoInterval_cat'] = df_test_store['PromoInterval_cat'].astype('float')\n",
    "df_test_store['CompetitionOpenSince'] = np.where((df_test_store['CompetitionOpenSinceMonth']==0) & (df_test_store['CompetitionOpenSinceYear']==0) , 0,(df_test_store.Month - df_test_store.CompetitionOpenSinceMonth) + \n",
    "                                       (12 * (df_test_store.Year - df_test_store.CompetitionOpenSinceYear)) )\n",
    "\n",
    "\n",
    "\n",
    "df_test_store[\"is_holiday_state\"] = df_test_store['StateHoliday'].map({\"0\": 0, \"a\": 1, \"b\": 1, \"c\": 1})\n",
    "\n",
    "\n",
    "\n",
    "\n",
    "df_test_store=pd.get_dummies(df_test_store, columns=[\"Assortment\", \"StoreType\",\"PromoInterval\"], prefix=[\"is_Assortment\", \"is_StoreType\",\"is_PromoInteval\"])\n"
   ]
  },
  {
   "cell_type": "code",
   "execution_count": 1538,
   "metadata": {},
   "outputs": [],
   "source": [
    "del df_test_store[\"Date\"]\n",
    "del df_test_store['CompetitionOpenSinceYear']\n",
    "del df_test_store['CompetitionOpenSinceMonth']\n"
   ]
  },
  {
   "cell_type": "code",
   "execution_count": 1539,
   "metadata": {},
   "outputs": [],
   "source": [
    "del df_test_store['StateHoliday_cat']"
   ]
  },
  {
   "cell_type": "code",
   "execution_count": 1540,
   "metadata": {},
   "outputs": [],
   "source": [
    "del df_test_store['Assortment_cat']\n",
    "del df_test_store['StoreType_cat']\n",
    "del df_test_store['PromoInterval_cat']"
   ]
  },
  {
   "cell_type": "code",
   "execution_count": 1541,
   "metadata": {},
   "outputs": [],
   "source": [
    "del df_test_store['StateHoliday']"
   ]
  },
  {
   "cell_type": "code",
   "execution_count": 1543,
   "metadata": {},
   "outputs": [],
   "source": [
    "del df_train_store['StateHoliday']"
   ]
  },
  {
   "cell_type": "markdown",
   "metadata": {},
   "source": [
    "-Now that my Test Set is ready i can go back and proceed with the training phase"
   ]
  },
  {
   "cell_type": "markdown",
   "metadata": {},
   "source": [
    "----\n",
    "\n",
    "## Developing The Model\n",
    "In this section of the project, I will develop a randomforestregressor training and fitting using GridSearch for hyperparameter optimization to make a prediction.\n",
    "Then ,I will make accurate evaluations of each model's performance (RandomForestRegressor vs XGBoostRegressor) through the use of the sklearn library which will help me evaluate which model is more suitable."
   ]
  },
  {
   "cell_type": "markdown",
   "metadata": {},
   "source": [
    "### Developing The Model: Define a Performance Metric\n",
    "It is difficult to measure the quality of a given model without quantifying its performance over training and testing. This is typically done using some type of performance metric. For this project, I will use the rmspe(Root Mean Square Percentage Error) score provided as an evaluation metric for the competition. You can find the formula inserted in a function down below.If the result is lower then 10% this signifies a very good quality of predicition and would be our goal in this project.\n"
   ]
  },
  {
   "cell_type": "code",
   "execution_count": 1480,
   "metadata": {},
   "outputs": [],
   "source": [
    "def rmspe(y, yhat):\n",
    "    rmspe = np.sqrt(np.mean( (y - yhat)**2 ))\n",
    "    return rmspe"
   ]
  },
  {
   "cell_type": "code",
   "execution_count": 1469,
   "metadata": {},
   "outputs": [],
   "source": [
    "features = df_train_store.drop(['Customers', 'Sales', 'SalesperCustomer'], axis = 1) \n",
    "#a rule of thumb is to transform my target value to log if i see the values are very dispersed which is the case\n",
    "#and then of course revert them with np.exp to their real values\n",
    "targets=np.log(df_train_store.Sales)\n"
   ]
  },
  {
   "cell_type": "markdown",
   "metadata": {},
   "source": [
    "### Developing The Model: Shuffle and Split Data with Cross Validation, Grid Search and Fitting the model:"
   ]
  },
  {
   "cell_type": "markdown",
   "metadata": {},
   "source": [
    "A crucial Step in Machine Learning is to make sure your model is robust by testing it on a small part of your dataset we call here train_test set which is usually divided 80% training and 20% validation."
   ]
  },
  {
   "cell_type": "code",
   "execution_count": 1470,
   "metadata": {},
   "outputs": [
    {
     "name": "stdout",
     "output_type": "stream",
     "text": [
      "Training and testing split was successful.\n"
     ]
    }
   ],
   "source": [
    "X_train, X_train_test, y_train, y_train_test = train_test_split(features, targets, test_size=0.20, random_state=15)\n",
    "print (\"Training and testing split was successful.\")\n"
   ]
  },
  {
   "cell_type": "markdown",
   "metadata": {},
   "source": [
    "Instead of doing a function, i decided to loop over different combination of hyperparameters and see what would be the optimal combination and at least over the loop i could be monitor how is the training performing.\n",
    "\n",
    "But First let's setup the RandomForestRegressor object."
   ]
  },
  {
   "cell_type": "code",
   "execution_count": 1472,
   "metadata": {},
   "outputs": [
    {
     "data": {
      "text/plain": [
       "RandomForestRegressor(bootstrap=True, criterion='mse', max_depth=5,\n",
       "           max_features='auto', max_leaf_nodes=None,\n",
       "           min_impurity_decrease=0.0, min_impurity_split=None,\n",
       "           min_samples_leaf=1, min_samples_split=2,\n",
       "           min_weight_fraction_leaf=0.0, n_estimators=10, n_jobs=4,\n",
       "           oob_score=False, random_state=31, verbose=0, warm_start=False)"
      ]
     },
     "execution_count": 1472,
     "metadata": {},
     "output_type": "execute_result"
    }
   ],
   "source": [
    "rfr = RandomForestRegressor(n_estimators=10, \n",
    "                             criterion='mse', \n",
    "                             max_depth=5, \n",
    "                             min_samples_split=2, \n",
    "                             min_samples_leaf=1, \n",
    "                             min_weight_fraction_leaf=0.0, \n",
    "                             max_features='auto', \n",
    "                             max_leaf_nodes=None, \n",
    "                             min_impurity_decrease=0.0, \n",
    "                             min_impurity_split=None, \n",
    "                             bootstrap=True, \n",
    "                             oob_score=False,\n",
    "                             n_jobs=4,\n",
    "                             random_state=31, \n",
    "                             verbose=0, \n",
    "                             warm_start=False)\n",
    "rfr.fit(X_train, y_train)\n"
   ]
  },
  {
   "cell_type": "markdown",
   "metadata": {},
   "source": [
    "The choice of the combinations of my hyperparameters are based on my past experience with Machine learning projects i worked on,most of the time the number of estimators should not exceed the 100 trees since the training set is big enough and the computational ressources needed are very big and in this case we're only using a local computer with 16GB of Ram. \n",
    "As of the min_samples_split being the minimum number of samples required to split an internal node, i am giving it full freedom to not limit itself only requiring minimum 2 but making it more conservative but trying 10 for instance which could alter the default way it splits its nodes in each tree."
   ]
  },
  {
   "cell_type": "code",
   "execution_count": 1473,
   "metadata": {},
   "outputs": [
    {
     "data": {
      "text/plain": [
       "RandomizedSearchCV(cv=10, error_score='raise',\n",
       "          estimator=RandomForestRegressor(bootstrap=True, criterion='mse', max_depth=5,\n",
       "           max_features='auto', max_leaf_nodes=None,\n",
       "           min_impurity_decrease=0.0, min_impurity_split=None,\n",
       "           min_samples_leaf=1, min_samples_split=2,\n",
       "           min_weight_fraction_leaf=0.0, n_estimators=10, n_jobs=4,\n",
       "           oob_score=False, random_state=31, verbose=0, warm_start=False),\n",
       "          fit_params=None, iid=True, n_iter=10, n_jobs=1,\n",
       "          param_distributions={'max_depth': (4, 6, 8, 10, 12, 14, 16, 20), 'n_estimators': (4, 8, 16, 24, 48, 72, 96, 128), 'min_samples_split': (2, 4, 6, 8, 10)},\n",
       "          pre_dispatch='2*n_jobs', random_state=None, refit=True,\n",
       "          return_train_score='warn', scoring=None, verbose=0)"
      ]
     },
     "execution_count": 1473,
     "metadata": {},
     "output_type": "execute_result"
    }
   ],
   "source": [
    "\n",
    "\n",
    "params = {'max_depth':(4,6,8,10,12,14,16,20),\n",
    "         'n_estimators':(4,8,16,24,48,72,96,128),\n",
    "         'min_samples_split':(2,4,6,8,10)}\n",
    "#scoring_fnc = metrics.make_scorer(rmspe)\n",
    "#the dimensionality is high, the number of combinations we have to search is enormous, using RandomizedSearchCV \n",
    "# is a better option then GridSearchCV\n",
    "grid = model_selection.RandomizedSearchCV(estimator=rfr,param_distributions=params,cv=10) \n",
    "#choosing 10 K-Folds makes sure i went through all of the data and didn't miss any pattern.(takes time to run but is worth doing it)\n",
    "grid.fit(X_train, y_train)\n"
   ]
  },
  {
   "cell_type": "code",
   "execution_count": 1474,
   "metadata": {},
   "outputs": [
    {
     "data": {
      "text/plain": [
       "({'max_depth': 20, 'min_samples_split': 10, 'n_estimators': 128},\n",
       " 0.8557370457047726)"
      ]
     },
     "execution_count": 1474,
     "metadata": {},
     "output_type": "execute_result"
    }
   ],
   "source": [
    "#This is the best combination i got from what i propose to try out with a (mse) score of 0.855 which is quite good\n",
    "grid.best_params_,grid.best_score_"
   ]
  },
  {
   "cell_type": "markdown",
   "metadata": {},
   "source": [
    "## Test our RF on the validation set:"
   ]
  },
  {
   "cell_type": "code",
   "execution_count": 1475,
   "metadata": {},
   "outputs": [],
   "source": [
    "#with the optimal parameters i got let's see how it behaves with the validation set\n",
    "rfr_val=RandomForestRegressor(n_estimators=128, \n",
    "                             criterion='mse', \n",
    "                             max_depth=20, \n",
    "                             min_samples_split=10, \n",
    "                             min_samples_leaf=1, \n",
    "                             min_weight_fraction_leaf=0.0, \n",
    "                             max_features='auto', \n",
    "                             max_leaf_nodes=None, \n",
    "                             min_impurity_decrease=0.0, \n",
    "                             min_impurity_split=None, \n",
    "                             bootstrap=True, \n",
    "                             oob_score=False,\n",
    "                             n_jobs=4, #setting n_jobs to 4 makes sure you're using the full potential of the machine you're running the training on\n",
    "                             random_state=35, \n",
    "                             verbose=0, \n",
    "                             warm_start=False)\n",
    "model_RF_test=rfr_val.fit(X_train,y_train)"
   ]
  },
  {
   "cell_type": "code",
   "execution_count": 1477,
   "metadata": {},
   "outputs": [],
   "source": [
    "yhat=model_RF_test.predict(X_train_test)"
   ]
  },
  {
   "cell_type": "code",
   "execution_count": 1535,
   "metadata": {},
   "outputs": [
    {
     "data": {
      "text/plain": [
       "(array([2.0000e+01, 2.3100e+02, 9.3200e+02, 5.9060e+03, 2.8602e+04,\n",
       "        7.3568e+04, 4.7568e+04, 1.0021e+04, 1.9310e+03, 8.9000e+01]),\n",
       " array([ 6.51439833,  6.91015948,  7.30592062,  7.70168176,  8.0974429 ,\n",
       "         8.49320404,  8.88896518,  9.28472632,  9.68048746, 10.0762486 ,\n",
       "        10.47200974]),\n",
       " <a list of 10 Patch objects>)"
      ]
     },
     "execution_count": 1535,
     "metadata": {},
     "output_type": "execute_result"
    },
    {
     "data": {
      "image/png": "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\n",
      "text/plain": [
       "<matplotlib.figure.Figure at 0x1a6fca1cc0>"
      ]
     },
     "metadata": {},
     "output_type": "display_data"
    }
   ],
   "source": [
    "plt.hist(yhat)"
   ]
  },
  {
   "cell_type": "code",
   "execution_count": 1481,
   "metadata": {},
   "outputs": [
    {
     "data": {
      "text/plain": [
       "0.16115213520329746"
      ]
     },
     "execution_count": 1481,
     "metadata": {},
     "output_type": "execute_result"
    }
   ],
   "source": [
    "error=rmspe(y_train_test,yhat)\n",
    "error"
   ]
  },
  {
   "cell_type": "markdown",
   "metadata": {},
   "source": [
    "Well 0.16 on RMSPE is a very good measure that usually indicates the quality of my predictions are very good.\n",
    "With the right amoung of comupational ressources and a bit more time i could manage to lower this score to reach the 0.10"
   ]
  },
  {
   "cell_type": "markdown",
   "metadata": {},
   "source": [
    "**Results:**"
   ]
  },
  {
   "cell_type": "markdown",
   "metadata": {},
   "source": [
    "At this stage with an RMSPE of 0.16 we're quite accurate when it comes to testing our validation set.\n",
    "A lot of approaches can be taken here in order to improve this score:\n",
    "\n",
    "-Either allocating more training sample when splitting so that the algorithm has more data to train on.\n",
    "\n",
    "-Proposing more variation in the hyperparameter to reach a better optimal combination.\n",
    "\n",
    "-Use another approach then RandomForest like polynomial linear regression,XGboost,Neural Network etc."
   ]
  },
  {
   "cell_type": "markdown",
   "metadata": {},
   "source": [
    "**In order to understand better what happened when we ran our randomforest regressor, here is a chart that represents, the importance and role that each variable that i decided to include played in this learning process:**"
   ]
  },
  {
   "cell_type": "code",
   "execution_count": 1532,
   "metadata": {},
   "outputs": [
    {
     "data": {
      "image/png": "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\n",
      "text/plain": [
       "<matplotlib.figure.Figure at 0x1a7057a908>"
      ]
     },
     "metadata": {},
     "output_type": "display_data"
    }
   ],
   "source": [
    "importances = rfr_val.feature_importances_\n",
    "std = np.std([rfr_val.feature_importances_ for tree in rfr_val.estimators_],\n",
    "             axis=0)\n",
    "indices = np.argsort(importances)\n",
    "palette1 = itertools.cycle(sns.color_palette())\n",
    "# Store the feature ranking\n",
    "features_ranked=[]\n",
    "for f in range(X_train.shape[1]):\n",
    "    features_ranked.append(X_train.columns[indices[f]])\n",
    "# Plot the feature importances of the forest\n",
    "\n",
    "plt.figure(figsize=(10,15))\n",
    "plt.title(\"Feature importances\")\n",
    "plt.barh(range(X_train.shape[1]), importances[indices],\n",
    "            color=[next(palette1)], align=\"center\")\n",
    "plt.yticks(range(X_train.shape[1]), features_ranked)\n",
    "plt.ylabel('Features')\n",
    "plt.ylim([-1, X_train.shape[1]])\n",
    "plt.show()\n",
    "\n"
   ]
  },
  {
   "cell_type": "markdown",
   "metadata": {},
   "source": [
    "**Findings:**\n",
    "- Our top 5 most important variables are:\n",
    "\n",
    " 1-Competitor Distance: This indeed impacts a lot the sales of a store like we saw previously in our EDA,when competition is very far stores tend to sell a lot more.\n",
    " \n",
    " 2-Promo: Promotion is primordial for a store to increase its sales, it allows price breaking and thus more customers intersted in buying.\n",
    " \n",
    " 3-Store: The Store itself represents a unique identificator for the algorithm to recognise which store has what attributes and indeed better accounts for the forecasting of those same stores in a future timeline.\n",
    " \n",
    " 4-CompetitionOpenSince: The merging of this variable paid out and allowed us to give more accurate predicitions of the sales based on the time of opening of those competitors.\n",
    " \n",
    " 5-DayofWeek: Like we said, during a week , the pattern varies a lot if it's a sunday or a monday (like we saw in our EDA) for instance and each day in the week has his own attributes and properties that allow to know how much are we going to sell.\n"
   ]
  },
  {
   "cell_type": "markdown",
   "metadata": {},
   "source": [
    "<h3>Kaggle Submission:</h3>"
   ]
  },
  {
   "cell_type": "code",
   "execution_count": 1552,
   "metadata": {},
   "outputs": [
    {
     "data": {
      "text/plain": [
       "Index(['Store', 'DayOfWeek', 'Open', 'Promo', 'SchoolHoliday',\n",
       "       'CompetitionDistance', 'Promo2', 'Promo2SinceWeek', 'Promo2SinceYear',\n",
       "       'Month', 'Year', 'Day', 'CompetitionOpenSince', 'is_holiday_state',\n",
       "       'is_Assortment_a', 'is_Assortment_b', 'is_Assortment_c',\n",
       "       'is_StoreType_a', 'is_StoreType_b', 'is_StoreType_c', 'is_StoreType_d',\n",
       "       'is_PromoInteval_0', 'is_PromoInteval_Feb,May,Aug,Nov',\n",
       "       'is_PromoInteval_Jan,Apr,Jul,Oct', 'is_PromoInteval_Mar,Jun,Sept,Dec'],\n",
       "      dtype='object')"
      ]
     },
     "execution_count": 1552,
     "metadata": {},
     "output_type": "execute_result"
    }
   ],
   "source": [
    "X_train.columns"
   ]
  },
  {
   "cell_type": "code",
   "execution_count": 1555,
   "metadata": {},
   "outputs": [],
   "source": [
    "kaggle_yhat= model_RF_test.predict(df_test_store[predictors])\n",
    "\n",
    "kaggle_preds= pd.DataFrame({'Id': df_test_store['Id'], \n",
    "                          'Sales': np.exp(kaggle_yhat)})\n",
    "kaggle_preds.to_csv(\"Stefano_Zakher_RF_Rossman_Kaggle_submission.csv\", index = False)"
   ]
  },
  {
   "cell_type": "markdown",
   "metadata": {},
   "source": [
    "<h2>Conclusion of this project:</h2>\n",
    "-  We can understand from this project the flexibility and robustness of a decision tree based model like RandomForest which helped us predict the Store Sales of Rossman based on attributes that defines each store and its surroundings.\n",
    "- As we can see, it always delivers a good predicition score while not having a lot of modifications and difficulties capturing the patterns hidden in the data. Fortunately we had a train set that was large enough for it to converge but in general RandomForest performs not so bad on small sets since its resampling method (bagging) and its random production of trees allow the bias to remain not so high and in this case always performs good on unseen data where as XGboost has tendency to overfit if not gently and smartly tuned.\n",
    "- I believe using hyperparameter optimization techniques like Gridsearch and RandomizedSearch is crucial to any Machine Learning problem since it allows the algorithm to not just limit itself on its defaulted parameters but to discover new opportunities of combining those parameters to reach a local optima while training on the data."
   ]
  },
  {
   "cell_type": "markdown",
   "metadata": {},
   "source": [
    "Thank you again for taking the time to go through my work! i hope you enjoyed!"
   ]
  },
  {
   "cell_type": "markdown",
   "metadata": {},
   "source": [
    "Please leave an upvote if you think this was benefitial for your understanding of the problem and follow me for more exciting projects upcoming!"
   ]
  }
 ],
 "metadata": {
  "kernelspec": {
   "display_name": "Python 3",
   "language": "python",
   "name": "python3"
  },
  "language_info": {
   "codemirror_mode": {
    "name": "ipython",
    "version": 3
   },
   "file_extension": ".py",
   "mimetype": "text/x-python",
   "name": "python",
   "nbconvert_exporter": "python",
   "pygments_lexer": "ipython3",
   "version": "3.6.4"
  }
 },
 "nbformat": 4,
 "nbformat_minor": 2
}
